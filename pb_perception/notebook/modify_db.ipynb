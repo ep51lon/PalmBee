{
 "cells": [
  {
   "cell_type": "code",
   "execution_count": 1,
   "metadata": {},
   "outputs": [],
   "source": [
    "from pb_perception.palmbee_db import PalmTreeDB"
   ]
  },
  {
   "cell_type": "code",
   "execution_count": 2,
   "metadata": {},
   "outputs": [
    {
     "name": "stdout",
     "output_type": "stream",
     "text": [
      "[{'tree_id': '5', 'lat': 0.0, 'lon': 0.0, 'alt': 0.0, 'tag_x': 2.40323722246481, 'tag_y': -0.5713818921849625, 'tag_z': -0.2983870049144064, 'center_x': 0.0, 'center_y': 0.0, 'center_z': 0.0}, {'tree_id': '3', 'lat': 0.0, 'lon': 0.0, 'alt': 0.0, 'tag_x': 2.0432584041212123, 'tag_y': -2.7990250076604695, 'tag_z': 1.057716688915845, 'center_x': 0.0, 'center_y': 0.0, 'center_z': 0.0}, {'tree_id': '2', 'lat': 0.0, 'lon': 0.0, 'alt': 0.0, 'tag_x': 0.7442538139984951, 'tag_y': -2.6180077262074506, 'tag_z': -0.3503742671262226, 'center_x': 0.0, 'center_y': 0.0, 'center_z': 0.0}, {'tree_id': '10', 'lat': 0.0, 'lon': 0.0, 'alt': 0.0, 'tag_x': 0.6355271362364482, 'tag_y': -2.9370696585848677, 'tag_z': 0.7338075274966549, 'center_x': 0.0, 'center_y': 0.0, 'center_z': 0.0}, {'tree_id': '4', 'lat': 0.0, 'lon': 0.0, 'alt': 0.0, 'tag_x': 0.2048541798454627, 'tag_y': -2.9294904026220143, 'tag_z': 0.06570933739861975, 'center_x': 0.0, 'center_y': 0.0, 'center_z': 0.0}]\n"
     ]
    }
   ],
   "source": [
    "db = PalmTreeDB(\"/home/palmbee1/palmbee_ws/src/PalmBee/pb_perception/database/test.db\")\n",
    "\n",
    "# # Add a tree\n",
    "# db.add_tree(\"T001\", (1.2345, 103.1234, 10.0), (0.5, 0.6, 2.1), (0.0, 0.0, 3.0))\n",
    "\n",
    "# # Update a tree\n",
    "# db.update_tree(\"T001\", tag_position=(0.6, 0.7, 2.2))\n",
    "\n",
    "# # Retrieve a tree\n",
    "# tree = db.get_tree(\"T001\")\n",
    "# print(tree['tag_x'])\n",
    "\n",
    "# # Retrieve all trees\n",
    "all_trees = db.get_all_trees()\n",
    "print(all_trees)\n",
    "\n",
    "# Export database to CSV\n",
    "db.export_to_csv(\"/home/palmbee1/palmbee_ws/src/PalmBee/pb_perception/database/test.csv\")\n",
    "\n",
    "# Import database from CSV\n",
    "# db.import_from_csv(\"palm_trees.csv\")\n",
    "\n",
    "# Delete a tree\n",
    "# db.delete_tree(\"T001\")\n",
    "\n",
    "db.close()"
   ]
  }
 ],
 "metadata": {
  "kernelspec": {
   "display_name": "Python 3",
   "language": "python",
   "name": "python3"
  },
  "language_info": {
   "codemirror_mode": {
    "name": "ipython",
    "version": 3
   },
   "file_extension": ".py",
   "mimetype": "text/x-python",
   "name": "python",
   "nbconvert_exporter": "python",
   "pygments_lexer": "ipython3",
   "version": "3.10.12"
  }
 },
 "nbformat": 4,
 "nbformat_minor": 2
}
