{
 "cells": [
  {
   "cell_type": "code",
   "execution_count": 27,
   "metadata": {},
   "outputs": [],
   "source": [
    "# %matplotlib widget\n",
    "\n",
    "import numpy as np\n",
    "import matplotlib.pyplot as plt\n",
    "import plotly.graph_objects as go\n",
    "from scipy.spatial.transform import Rotation as R\n",
    "from mpl_toolkits.mplot3d import Axes3D\n",
    "from pytransform3d.rotations import matrix_from_quaternion\n",
    "from pytransform3d.transformations import plot_transform"
   ]
  },
  {
   "cell_type": "code",
   "execution_count": 28,
   "metadata": {},
   "outputs": [],
   "source": [
    "# Load data from the text file\n",
    "# file_path = \"rec1_rtabmap_slam.txt\"\n",
    "# file_path = \"sawit/poses01.txt\"\n",
    "# file_path = \"sawit/rtabmap_slam_03.txt\"\n",
    "# file_path = \"rec_20250315/poses15_03_no-loop.txt\"\n",
    "file_path = \"Mamuang_21032025/rec01/poses2103-01.txt\"\n",
    "\n",
    "# Read data, skipping the first header row\n",
    "data = np.loadtxt(file_path, skiprows=1)\n",
    "\n",
    "# Extract positions and orientations\n",
    "timestamps = data[:, 0]\n",
    "positions = data[:, 1:4]  # x, y, z\n",
    "quaternions = data[:, 4:8]  # qx, qy, qz, qw"
   ]
  },
  {
   "cell_type": "code",
   "execution_count": 29,
   "metadata": {},
   "outputs": [
    {
     "name": "stdout",
     "output_type": "stream",
     "text": [
      "[[ 0.0000000e+00 -0.0000000e+00 -0.0000000e+00]\n",
      " [-1.1940000e-03 -1.1211500e-01 -1.8682000e-02]\n",
      " [-5.7930000e-03 -2.5590000e-03 -2.6664000e-02]\n",
      " [-4.8706000e-02  1.2198500e-01  2.4874000e-02]\n",
      " [-5.5600000e-04  1.5710000e-03 -5.9980000e-03]\n",
      " [ 2.1193000e-02 -1.2061200e-01 -1.3596000e-02]\n",
      " [ 7.4300000e-03 -1.3370000e-03 -3.7460000e-03]\n",
      " [ 1.9030000e-03 -1.6036800e-01  3.1090000e-02]\n",
      " [ 1.3083100e-01 -1.3395100e-01  9.7657000e-02]\n",
      " [ 7.4344000e-01 -1.7742500e-01  8.5967000e-02]\n",
      " [ 1.2066020e+00 -3.9111000e-02 -3.0366300e-01]\n",
      " [ 1.1901850e+00  7.5884000e-02 -3.9965300e-01]\n",
      " [ 1.1867670e+00  7.5051000e-02 -4.5084100e-01]\n",
      " [ 1.2710930e+00  1.0026300e-01 -2.5895600e-01]\n",
      " [ 1.2414460e+00  1.8801600e-01  9.6404000e-02]\n",
      " [ 1.3250340e+00 -6.8324000e-02  3.2159200e-01]\n",
      " [ 1.3525820e+00 -5.2977300e-01  4.2604800e-01]\n",
      " [ 1.3258740e+00 -8.6784600e-01  5.6482600e-01]\n",
      " [ 1.5375290e+00 -9.4936400e-01  6.0851200e-01]\n",
      " [ 1.7077410e+00 -9.7930100e-01  6.1773200e-01]\n",
      " [ 1.8731590e+00 -1.0385520e+00  6.2990300e-01]\n",
      " [ 2.0747850e+00 -1.1680460e+00  6.4863400e-01]\n",
      " [ 2.3504830e+00 -1.2367980e+00  6.8572000e-01]\n",
      " [ 2.6710660e+00 -1.3003300e+00  6.0953600e-01]\n",
      " [ 2.8308840e+00 -1.2612360e+00  5.3550400e-01]\n",
      " [ 3.0194470e+00 -1.3377210e+00  5.4737300e-01]\n",
      " [ 3.1637460e+00 -1.1890320e+00  4.7591800e-01]\n",
      " [ 3.2424260e+00 -1.0726780e+00  5.0225700e-01]\n",
      " [ 3.3902440e+00 -9.4394800e-01  5.5365600e-01]\n",
      " [ 3.5937190e+00 -8.0724400e-01  5.3044900e-01]\n",
      " [ 3.8068900e+00 -6.7243100e-01  5.1459900e-01]\n",
      " [ 3.9508330e+00 -5.3494800e-01  5.5422000e-01]\n",
      " [ 4.1062670e+00 -4.3060000e-01  6.1741100e-01]\n",
      " [ 4.4857440e+00 -4.1043600e-01  6.5214800e-01]\n",
      " [ 4.9723030e+00 -3.7094200e-01  5.6632300e-01]\n",
      " [ 5.5411550e+00 -3.1358000e-01  5.2775400e-01]\n",
      " [ 5.8256750e+00 -2.3530200e-01  5.3459100e-01]\n",
      " [ 6.0040910e+00 -1.7212400e-01  5.9721200e-01]\n",
      " [ 5.9848020e+00 -2.4573000e-01  6.1317700e-01]\n",
      " [ 6.1195100e+00 -2.9367900e-01  5.5363800e-01]\n",
      " [ 6.3715380e+00 -4.4666900e-01  5.4524800e-01]\n",
      " [ 6.6220200e+00 -6.0457500e-01  5.5779800e-01]\n",
      " [ 6.9773980e+00 -7.9199500e-01  6.7265500e-01]\n",
      " [ 7.3020840e+00 -9.4766300e-01  6.4818500e-01]\n",
      " [ 7.5411250e+00 -1.0432490e+00  6.3838400e-01]\n",
      " [ 7.8500110e+00 -1.2531770e+00  9.2110900e-01]\n",
      " [ 7.9882090e+00 -1.5284500e+00  9.9451300e-01]\n",
      " [ 8.2149280e+00 -2.0507880e+00  1.0164490e+00]\n",
      " [ 8.3913620e+00 -2.4131960e+00  9.5826400e-01]\n",
      " [ 8.5670450e+00 -2.6621540e+00  8.1963100e-01]\n",
      " [ 8.6761050e+00 -3.0599560e+00  1.0573950e+00]\n",
      " [ 8.7874340e+00 -3.4497680e+00  1.1416330e+00]\n",
      " [ 8.9213550e+00 -3.8163050e+00  9.2686700e-01]\n",
      " [ 8.9794950e+00 -4.0929380e+00  9.9349200e-01]\n",
      " [ 8.9618280e+00 -4.2524100e+00  1.1401000e+00]\n",
      " [ 8.9599490e+00 -4.4872710e+00  1.1980680e+00]\n",
      " [ 8.9767110e+00 -4.6893340e+00  1.1629060e+00]\n",
      " [ 8.8212180e+00 -4.9346460e+00  1.1086500e+00]\n",
      " [ 8.3206890e+00 -5.2759780e+00  1.0161450e+00]\n",
      " [ 8.0549730e+00 -5.4918600e+00  1.0415280e+00]\n",
      " [ 7.8362900e+00 -5.6090290e+00  1.0796450e+00]\n",
      " [ 7.3532670e+00 -5.5992630e+00  9.7117300e-01]\n",
      " [ 6.7680680e+00 -5.5964260e+00  7.4647800e-01]\n",
      " [ 6.2378980e+00 -5.5232900e+00  6.5116200e-01]\n",
      " [ 6.1578660e+00 -5.4539220e+00  6.6663200e-01]\n",
      " [ 5.7473260e+00 -5.1943690e+00  6.4011500e-01]\n",
      " [ 5.1565410e+00 -4.8714870e+00  7.2475600e-01]\n",
      " [ 4.7497260e+00 -4.4716250e+00  7.1298100e-01]\n",
      " [ 4.4990540e+00 -3.9319920e+00  8.2303500e-01]\n",
      " [ 4.2310080e+00 -3.4993860e+00  8.7693800e-01]\n",
      " [ 3.7612320e+00 -2.9206190e+00  7.6112900e-01]\n",
      " [ 3.6279720e+00 -2.5154230e+00  7.3737000e-01]\n",
      " [ 3.6905210e+00 -2.2299760e+00  7.4194900e-01]\n",
      " [ 3.7830550e+00 -1.8962040e+00  6.7710800e-01]\n",
      " [ 3.8762570e+00 -1.6201030e+00  6.0869400e-01]\n",
      " [ 4.1848390e+00 -1.2531150e+00  5.7619300e-01]\n",
      " [ 4.5236240e+00 -1.1946290e+00  5.0935300e-01]\n",
      " [ 4.8720920e+00 -1.2251100e+00  3.9730900e-01]\n",
      " [ 5.2227560e+00 -8.5393300e-01  4.1429300e-01]\n",
      " [ 5.3602480e+00 -3.4380200e-01  5.5341700e-01]\n",
      " [ 5.4914490e+00  3.3702900e-01  6.6277100e-01]\n",
      " [ 5.5676350e+00  1.2946550e+00  6.5260000e-01]\n",
      " [ 5.6659900e+00  1.8677920e+00  5.6480400e-01]\n",
      " [ 5.7924020e+00  2.8806480e+00  6.8078400e-01]\n",
      " [ 5.8416480e+00  3.3750820e+00  7.1102400e-01]\n",
      " [ 5.9208930e+00  3.7422810e+00  6.4984300e-01]\n",
      " [ 6.1870170e+00  4.1803010e+00  6.9088700e-01]\n",
      " [ 6.3378890e+00  4.4315590e+00  6.6852400e-01]\n",
      " [ 6.3366030e+00  4.4797210e+00  5.8292300e-01]\n",
      " [ 6.4465910e+00  4.4235450e+00  6.5326200e-01]\n",
      " [ 6.7316020e+00  4.4539930e+00  6.4456600e-01]\n",
      " [ 6.8376650e+00  4.4584880e+00  6.2407100e-01]\n",
      " [ 6.4575120e+00  4.6668640e+00  5.5531900e-01]\n",
      " [ 6.1124670e+00  4.7621160e+00  6.1269500e-01]\n",
      " [ 5.8792970e+00  4.8564160e+00  6.3019600e-01]\n",
      " [ 5.6172590e+00  5.0731230e+00  5.8580400e-01]\n",
      " [ 5.6253060e+00  5.2804610e+00  5.5946200e-01]\n",
      " [ 5.7161560e+00  5.5198550e+00  5.4397400e-01]\n",
      " [ 5.7718380e+00  5.9262090e+00  5.6805400e-01]\n",
      " [ 5.8119060e+00  6.4282680e+00  5.2218200e-01]\n",
      " [ 6.0056980e+00  6.8266940e+00  5.1863600e-01]\n",
      " [ 6.1851260e+00  7.2554670e+00  5.4539300e-01]\n",
      " [ 6.3592260e+00  7.7223130e+00  5.5768000e-01]\n",
      " [ 6.6877060e+00  8.2424140e+00  6.3607700e-01]\n",
      " [ 7.0301760e+00  8.4135740e+00  7.9132600e-01]\n",
      " [ 7.4744320e+00  8.4150190e+00  9.5391400e-01]\n",
      " [ 7.9115360e+00  8.2963210e+00  7.0226100e-01]\n",
      " [ 8.1585990e+00  8.1995340e+00  5.6006800e-01]\n",
      " [ 8.5140540e+00  8.1347780e+00  7.7986300e-01]\n",
      " [ 8.7887690e+00  7.9657520e+00  8.6068900e-01]\n",
      " [ 9.1018520e+00  7.5948200e+00  8.2221200e-01]\n",
      " [ 9.3324740e+00  7.1547850e+00  8.2765400e-01]\n",
      " [ 9.4055560e+00  6.7495500e+00  7.1974300e-01]\n",
      " [ 9.3419110e+00  6.3027230e+00  6.4851300e-01]\n",
      " [ 9.2009500e+00  5.5519240e+00  4.3612400e-01]\n",
      " [ 9.2936170e+00  5.4446570e+00  4.6613400e-01]\n",
      " [ 8.9735260e+00  5.4642240e+00  4.8500500e-01]\n",
      " [ 8.8058560e+00  5.3467010e+00  3.7813000e-01]\n",
      " [ 8.5810220e+00  5.1070760e+00  3.6830600e-01]\n",
      " [ 8.3664960e+00  4.9468650e+00  3.4184200e-01]\n",
      " [ 8.2539270e+00  5.0161360e+00  3.5434600e-01]\n",
      " [ 8.3219940e+00  5.0773570e+00  4.2025800e-01]\n",
      " [ 8.3843620e+00  4.9979850e+00  5.2956600e-01]\n",
      " [ 8.1827790e+00  4.7145910e+00  5.9406400e-01]\n",
      " [ 7.8099920e+00  4.5436860e+00  6.6057700e-01]\n",
      " [ 7.5811700e+00  4.5637950e+00  7.1646300e-01]\n",
      " [ 7.4219420e+00  4.6064520e+00  6.7912500e-01]\n",
      " [ 7.2465000e+00  4.6417100e+00  6.5998500e-01]\n",
      " [ 7.1658240e+00  4.6545320e+00  6.4277600e-01]\n",
      " [ 7.1003800e+00  4.6356520e+00  6.9363900e-01]\n",
      " [ 6.8823140e+00  4.4152970e+00  6.8653000e-01]\n",
      " [ 6.7337880e+00  4.2969990e+00  6.7963300e-01]\n",
      " [ 6.9843380e+00  4.2113730e+00  6.9631500e-01]\n",
      " [ 7.1319860e+00  3.9407510e+00  6.8571900e-01]\n",
      " [ 7.2275770e+00  3.3666940e+00  6.8763100e-01]\n",
      " [ 7.4533450e+00  2.7837440e+00  6.3038400e-01]\n",
      " [ 7.8484330e+00  2.0282620e+00  6.1040300e-01]\n",
      " [ 8.4156490e+00  1.6330100e+00  6.0594100e-01]\n",
      " [ 8.9626250e+00  1.4688960e+00  6.5849500e-01]\n",
      " [ 9.2974990e+00  1.4545870e+00  6.4404900e-01]\n",
      " [ 9.5421610e+00  1.4053920e+00  5.8804600e-01]\n",
      " [ 9.5604770e+00  1.3365060e+00  5.5762000e-01]\n",
      " [ 9.9478540e+00  1.2562080e+00  5.3220200e-01]\n",
      " [ 1.0058834e+01  1.2177000e+00  6.1212900e-01]\n",
      " [ 1.0320380e+01  1.0768560e+00  5.8440000e-01]\n",
      " [ 1.0421184e+01  1.0433230e+00  5.4685200e-01]\n",
      " [ 1.0474830e+01  1.1697460e+00  5.1948800e-01]\n",
      " [ 1.0675995e+01  9.7861900e-01  5.2366100e-01]\n",
      " [ 1.0779418e+01  1.0737810e+00  5.1302000e-01]\n",
      " [ 1.0732402e+01  1.0761540e+00  5.2564200e-01]\n",
      " [ 1.0767220e+01  1.0209250e+00  4.8211300e-01]\n",
      " [ 1.0718226e+01  1.0645440e+00  5.7324000e-01]\n",
      " [ 1.0670696e+01  1.2509220e+00  5.8548600e-01]\n",
      " [ 1.0607623e+01  1.2860440e+00  5.8836300e-01]\n",
      " [ 1.0610768e+01  1.4939630e+00  6.2263900e-01]\n",
      " [ 1.0586458e+01  1.3736410e+00  6.6176000e-01]\n",
      " [ 1.0577906e+01  1.2827700e+00  5.5162000e-01]\n",
      " [ 1.0487843e+01  1.1147770e+00  5.4122100e-01]\n",
      " [ 1.0380528e+01  9.4535900e-01  5.1658600e-01]\n",
      " [ 1.0393770e+01  7.4457500e-01  4.9789200e-01]\n",
      " [ 1.0462017e+01  5.5231200e-01  5.2264600e-01]\n",
      " [ 1.0568615e+01  2.8531200e-01  5.3659200e-01]\n",
      " [ 1.0748619e+01 -1.1146800e-01  4.2850400e-01]\n",
      " [ 1.0813697e+01 -2.9383300e-01  5.0880100e-01]\n",
      " [ 1.0911071e+01 -5.2137100e-01  6.4096200e-01]\n",
      " [ 1.1234542e+01 -7.1301100e-01  5.9602400e-01]\n",
      " [ 1.1444128e+01 -9.4593600e-01  5.9484500e-01]\n",
      " [ 1.1643639e+01 -1.0301780e+00  6.0548200e-01]\n",
      " [ 1.1887682e+01 -1.1319920e+00  5.2996600e-01]\n",
      " [ 1.2056527e+01 -1.1618210e+00  5.8123300e-01]\n",
      " [ 1.2385129e+01 -1.1467890e+00  5.3617700e-01]\n",
      " [ 1.2671055e+01 -1.1245390e+00  5.0680700e-01]\n",
      " [ 1.3409866e+01 -1.0661660e+00  6.3305600e-01]\n",
      " [ 1.3698477e+01 -1.0522090e+00  6.6795400e-01]\n",
      " [ 1.4055030e+01 -7.8548000e-01  5.7339100e-01]\n",
      " [ 1.4616784e+01 -4.8352900e-01  5.3711200e-01]\n",
      " [ 1.5095482e+01 -2.4874400e-01  5.7662700e-01]\n",
      " [ 1.5254315e+01  4.3756000e-02  5.7641000e-01]\n",
      " [ 1.5337278e+01  3.6880800e-01  8.0430800e-01]\n",
      " [ 1.5279973e+01  7.6630700e-01  1.0370230e+00]\n",
      " [ 1.5308403e+01  1.4035040e+00  1.0538880e+00]\n",
      " [ 1.5281450e+01  1.9809930e+00  9.5613400e-01]\n",
      " [ 1.5115146e+01  2.4938500e+00  9.2620100e-01]\n",
      " [ 1.5258544e+01  1.3013450e+00  5.7024200e-01]\n",
      " [ 1.5416210e+01  1.1039130e+00  6.5946200e-01]\n",
      " [ 1.5482191e+01  1.0192940e+00  7.1620500e-01]\n",
      " [ 1.5559925e+01  8.9817000e-01  7.6703900e-01]\n",
      " [ 1.5581371e+01  1.1570690e+00  6.7468800e-01]\n",
      " [ 1.5545074e+01  1.5470160e+00  7.0649900e-01]\n",
      " [ 1.5314581e+01  1.9175300e+00  7.9836600e-01]\n",
      " [ 1.4962823e+01  2.2856650e+00  7.1003400e-01]\n",
      " [ 1.4514668e+01  2.7748060e+00  6.6735000e-01]\n",
      " [ 1.4087326e+01  3.0751560e+00  6.0953700e-01]\n",
      " [ 1.3458747e+01  3.2220770e+00  4.1874100e-01]\n",
      " [ 1.2888147e+01  3.1881100e+00  4.7236600e-01]\n",
      " [ 1.1987999e+01  3.0326330e+00  5.8499400e-01]\n",
      " [ 1.1354936e+01  2.8054930e+00  5.5041800e-01]\n",
      " [ 1.0950186e+01  2.5537940e+00  5.4970000e-01]\n",
      " [ 1.0644198e+01  2.2163160e+00  5.6259700e-01]\n",
      " [ 1.0553313e+01  1.8683300e+00  5.5538200e-01]\n",
      " [ 1.0584484e+01  1.6697660e+00  5.3562900e-01]\n",
      " [ 1.0496498e+01  1.4704270e+00  4.5533500e-01]\n",
      " [ 1.0465383e+01  1.5081630e+00  4.1641700e-01]\n",
      " [ 1.0503352e+01  1.3917590e+00  4.5015500e-01]\n",
      " [ 1.0359243e+01  1.4958830e+00  4.1119000e-01]\n",
      " [ 1.0149965e+01  1.5363150e+00  5.9203500e-01]\n",
      " [ 9.9947620e+00  1.6538780e+00  6.2542500e-01]\n",
      " [ 9.6403490e+00  1.6119860e+00  5.0010500e-01]\n",
      " [ 9.0837820e+00  1.3911590e+00  4.4614400e-01]\n",
      " [ 8.0253920e+00  1.2419450e+00  5.0575700e-01]\n",
      " [ 7.1511890e+00  1.0999900e+00  5.3138300e-01]\n",
      " [ 6.0049100e+00  9.2186800e-01  5.7907200e-01]\n",
      " [ 5.0783160e+00  5.7874000e-01  5.3286200e-01]\n",
      " [ 4.2074070e+00  1.6368200e-01  4.9697500e-01]\n",
      " [ 3.2026150e+00 -3.3475600e-01  4.2337700e-01]\n",
      " [ 2.5666140e+00 -7.3488200e-01  3.9799300e-01]\n",
      " [ 1.9249790e+00 -1.0419950e+00  3.3485400e-01]\n",
      " [ 1.5484020e+00 -1.2861570e+00  1.9354700e-01]\n",
      " [ 1.2777320e+00 -1.3677750e+00  7.8093000e-02]\n",
      " [ 1.1932620e+00 -1.3990070e+00 -1.0130600e-01]\n",
      " [ 9.5556500e-01 -1.4622590e+00 -2.7941800e-01]\n",
      " [ 7.5540800e-01 -1.5532640e+00 -4.0173100e-01]\n",
      " [ 6.9190900e-01 -1.6115810e+00 -5.2296600e-01]]\n",
      "[[ 3.18300e-02 -6.56320e-02 -5.30000e-04  9.97336e-01]\n",
      " [ 3.10700e-02 -6.64680e-02  5.51100e-03  9.97289e-01]\n",
      " [ 3.07550e-02 -6.77360e-02  8.45000e-04  9.97229e-01]\n",
      " [ 3.15920e-02 -6.46300e-02 -3.61800e-03  9.97403e-01]\n",
      " [ 3.15560e-02 -6.69220e-02  2.77200e-03  9.97255e-01]\n",
      " [ 3.12060e-02 -6.73510e-02  8.78900e-03  9.97203e-01]\n",
      " [ 3.11670e-02 -6.69630e-02  4.44700e-03  9.97259e-01]\n",
      " [ 3.05600e-02 -6.39250e-02  1.06850e-02  9.97429e-01]\n",
      " [ 1.18381e-01 -1.08894e-01 -3.48950e-02  9.86362e-01]\n",
      " [ 1.16100e-01 -1.45698e-01 -7.07640e-02  9.79941e-01]\n",
      " [ 6.20900e-03 -4.60010e-02  1.81930e-02  9.98756e-01]\n",
      " [ 1.15100e-03 -4.41520e-02  1.21800e-03  9.99023e-01]\n",
      " [ 6.53180e-02 -4.18170e-02  1.54690e-02  9.96868e-01]\n",
      " [ 5.38700e-03 -7.40310e-02 -2.09390e-02  9.97022e-01]\n",
      " [ 2.28140e-02 -6.08950e-02 -1.68430e-02  9.97741e-01]\n",
      " [ 3.59910e-02 -7.36990e-02 -8.42000e-03  9.96595e-01]\n",
      " [ 2.01380e-02 -7.20110e-02  7.47100e-03  9.97173e-01]\n",
      " [ 1.03380e-02 -5.30070e-02  1.24320e-02  9.98463e-01]\n",
      " [ 1.52350e-02 -6.50430e-02 -1.69860e-02  9.97622e-01]\n",
      " [ 1.18530e-02 -5.98390e-02 -9.33820e-02  9.93760e-01]\n",
      " [ 1.21040e-02 -5.05310e-02 -1.57683e-01  9.86122e-01]\n",
      " [ 1.84000e-04 -6.06150e-02 -1.79928e-01  9.81811e-01]\n",
      " [ 5.95300e-03 -5.35930e-02 -1.77966e-01  9.82558e-01]\n",
      " [ 8.37200e-03 -6.79010e-02 -1.65944e-01  9.83759e-01]\n",
      " [ 8.68100e-03 -7.27950e-02 -1.82370e-01  9.80493e-01]\n",
      " [ 1.46270e-02 -7.28980e-02 -1.66893e-01  9.83168e-01]\n",
      " [-1.99100e-03 -6.30860e-02 -1.97310e-01  9.78307e-01]\n",
      " [-7.31800e-03 -5.61560e-02 -2.75615e-01  9.59599e-01]\n",
      " [-2.37620e-02 -4.75220e-02 -3.80717e-01  9.23164e-01]\n",
      " [-1.54280e-02 -5.40310e-02 -3.65961e-01  9.28932e-01]\n",
      " [-2.98730e-02 -5.52970e-02 -4.70056e-01  8.80396e-01]\n",
      " [-3.54350e-02 -4.95220e-02 -6.25354e-01  7.77962e-01]\n",
      " [-5.02820e-02 -2.64460e-02 -6.88919e-01  7.22608e-01]\n",
      " [-4.56060e-02 -3.47850e-02 -6.92232e-01  7.19392e-01]\n",
      " [-4.03180e-02 -4.52820e-02 -6.28911e-01  7.75110e-01]\n",
      " [-4.17240e-02 -5.11970e-02 -6.31440e-01  7.72607e-01]\n",
      " [-4.20820e-02 -4.94280e-02 -7.44063e-01  6.64949e-01]\n",
      " [-2.57350e-02 -4.17170e-02 -7.97610e-01  6.01178e-01]\n",
      " [ 5.46780e-02  2.58510e-02  8.83725e-01 -4.64083e-01]\n",
      " [ 4.70670e-02  2.08900e-02  8.90552e-01 -4.51957e-01]\n",
      " [-4.21660e-02 -3.24550e-02 -8.60245e-01  5.07097e-01]\n",
      " [ 4.91990e-02  3.04960e-02  8.76195e-01 -4.78468e-01]\n",
      " [ 4.11580e-02  4.13600e-02  8.69147e-01 -4.91100e-01]\n",
      " [ 4.36430e-02  4.39730e-02  8.66588e-01 -4.95164e-01]\n",
      " [ 5.11260e-02  2.47350e-02  9.26660e-01 -3.71586e-01]\n",
      " [ 5.03190e-02  4.83100e-03  9.78091e-01 -2.01949e-01]\n",
      " [ 4.86900e-02 -2.74700e-03  9.83033e-01 -1.76826e-01]\n",
      " [ 5.39470e-02  9.53800e-03  9.76621e-01 -2.07872e-01]\n",
      " [ 5.73680e-02  1.54830e-02  9.86500e-01 -1.52598e-01]\n",
      " [ 5.21290e-02 -1.49350e-02  9.97003e-01 -5.51740e-02]\n",
      " [ 5.35710e-02 -7.78700e-03  9.98196e-01 -2.59790e-02]\n",
      " [ 5.14450e-02  2.88700e-03  9.98635e-01 -8.54500e-03]\n",
      " [ 4.96410e-02  1.26030e-02  9.97997e-01 -3.71260e-02]\n",
      " [ 5.02950e-02  1.80580e-02  9.98049e-01 -3.22970e-02]\n",
      " [ 5.51220e-02  3.09300e-03  9.98468e-01 -3.75300e-03]\n",
      " [ 5.44690e-02 -5.33200e-03  9.89235e-01  1.35717e-01]\n",
      " [ 4.68460e-02 -2.60030e-02  9.36076e-01  3.47694e-01]\n",
      " [ 3.83200e-02 -4.38450e-02  8.52888e-01  5.18837e-01]\n",
      " [ 5.05260e-02 -4.22710e-02  7.89813e-01  6.09800e-01]\n",
      " [ 4.47920e-02 -4.64870e-02  7.05081e-01  7.06182e-01]\n",
      " [ 2.97720e-02 -5.78830e-02  6.50880e-01  7.56385e-01]\n",
      " [ 6.36910e-02 -3.34140e-02  6.55349e-01  7.51894e-01]\n",
      " [ 2.20840e-02 -5.66760e-02  6.25636e-01  7.77740e-01]\n",
      " [ 4.30230e-02 -5.12920e-02  5.50656e-01  8.32043e-01]\n",
      " [ 2.06770e-02 -7.13620e-02  4.91240e-01  8.67850e-01]\n",
      " [ 2.06510e-02 -7.55120e-02  4.90388e-01  8.67981e-01]\n",
      " [ 5.98700e-03 -4.55310e-02  4.63602e-01  8.84853e-01]\n",
      " [ 1.99390e-02 -5.68880e-02  4.71235e-01  8.79946e-01]\n",
      " [ 3.06960e-02 -7.65130e-02  3.14506e-01  9.45669e-01]\n",
      " [ 2.86420e-02 -7.23570e-02  2.78695e-01  9.57222e-01]\n",
      " [ 1.88540e-02 -7.24600e-02  1.99538e-01  9.77025e-01]\n",
      " [ 3.06800e-02 -6.67100e-02  2.01955e-01  9.76638e-01]\n",
      " [ 1.35820e-02 -7.07430e-02  1.07684e-01  9.91572e-01]\n",
      " [ 8.79300e-03 -6.70740e-02 -1.82000e-02  9.97543e-01]\n",
      " [-8.05500e-03 -5.59930e-02 -1.34647e-01  9.89278e-01]\n",
      " [ 1.52260e-02 -5.50380e-02 -1.90767e-01  9.79973e-01]\n",
      " [ 1.23870e-02 -5.98620e-02  1.41770e-02  9.98029e-01]\n",
      " [ 2.28690e-02 -4.38410e-02  3.78518e-01  9.24272e-01]\n",
      " [ 3.01200e-02 -7.10400e-02  6.22358e-01  7.78920e-01]\n",
      " [ 3.96770e-02 -6.01920e-02  6.56163e-01  7.51168e-01]\n",
      " [ 3.98190e-02 -5.13800e-02  6.68492e-01  7.40873e-01]\n",
      " [ 4.71200e-02 -4.37660e-02  6.50961e-01  7.56382e-01]\n",
      " [ 3.58290e-02 -5.19020e-02  5.89543e-01  8.05271e-01]\n",
      " [ 6.01150e-02 -7.17440e-02  6.32902e-01  7.68553e-01]\n",
      " [ 4.35570e-02 -4.46490e-02  5.94587e-01  8.01608e-01]\n",
      " [ 3.52130e-02 -4.94190e-02  5.29341e-01  8.46237e-01]\n",
      " [ 2.91130e-02 -6.84510e-02  5.37396e-01  8.40043e-01]\n",
      " [ 3.14850e-02 -7.46600e-02  6.16881e-01  7.82874e-01]\n",
      " [ 4.66850e-02 -5.32450e-02  5.18741e-01  8.51994e-01]\n",
      " [ 3.55000e-02 -4.96460e-02  4.87558e-01  8.70955e-01]\n",
      " [ 2.27770e-02 -8.01410e-02  4.71123e-01  8.78124e-01]\n",
      " [ 3.21060e-02 -6.89240e-02  5.24667e-01  8.47905e-01]\n",
      " [ 2.16930e-02 -8.35960e-02  5.47039e-01  8.32640e-01]\n",
      " [ 3.19270e-02 -6.76760e-02  5.21428e-01  8.50008e-01]\n",
      " [ 1.28210e-02 -7.43260e-02  4.62144e-01  8.83592e-01]\n",
      " [ 2.88220e-02 -4.90400e-02  3.56308e-01  9.32636e-01]\n",
      " [ 7.34200e-03 -7.92820e-02  2.69063e-01  9.59826e-01]\n",
      " [ 2.63600e-03 -7.25710e-02  2.33092e-01  9.69739e-01]\n",
      " [ 1.32000e-04 -7.56070e-02  1.64231e-01  9.83520e-01]\n",
      " [-1.30300e-03 -7.28030e-02 -1.42650e-02  9.97244e-01]\n",
      " [-1.30340e-02 -8.04150e-02 -9.41940e-02  9.92215e-01]\n",
      " [-1.47900e-02 -7.32150e-02 -9.28080e-02  9.92878e-01]\n",
      " [-3.65330e-02 -6.23160e-02 -2.30851e-01  9.70304e-01]\n",
      " [-2.29720e-02 -5.83830e-02 -5.08431e-01  8.58814e-01]\n",
      " [-4.00970e-02 -4.88900e-02 -6.50379e-01  7.56974e-01]\n",
      " [-4.20710e-02 -4.71420e-02 -7.12186e-01  6.99142e-01]\n",
      " [-4.43000e-02 -6.01460e-02 -6.91931e-01  7.18088e-01]\n",
      " [-5.45030e-02 -4.79170e-02 -6.69681e-01  7.39095e-01]\n",
      " [-3.92670e-02 -4.17110e-02 -7.58243e-01  6.49450e-01]\n",
      " [ 4.31840e-02  3.20570e-02  8.64379e-01 -4.99957e-01]\n",
      " [ 4.38080e-02  2.17400e-02  9.19837e-01 -3.89241e-01]\n",
      " [ 4.91650e-02  6.62500e-03  9.89546e-01 -1.35414e-01]\n",
      " [ 5.36910e-02 -1.32720e-02  9.97431e-01  4.55200e-02]\n",
      " [ 5.22080e-02 -1.23350e-02  9.93051e-01  1.04744e-01]\n",
      " [ 4.63530e-02  5.76380e-02  9.31367e-01 -3.56491e-01]\n",
      " [ 2.19460e-02  3.08300e-02  9.62480e-01 -2.68702e-01]\n",
      " [ 4.13400e-02  8.24400e-03  9.60633e-01 -2.74605e-01]\n",
      " [ 4.03020e-02  2.79160e-02  9.46556e-01 -3.18793e-01]\n",
      " [ 4.59670e-02  3.15420e-02  9.54463e-01 -2.93075e-01]\n",
      " [ 3.40510e-02  1.04870e-02  9.93271e-01 -1.10198e-01]\n",
      " [ 6.05230e-02 -1.12120e-02  9.88232e-01  1.40032e-01]\n",
      " [ 5.14450e-02 -4.18910e-02  9.22122e-01  3.81170e-01]\n",
      " [ 4.27140e-02 -5.58680e-02  9.20181e-01  3.85124e-01]\n",
      " [ 4.33820e-02 -4.08200e-02  8.93151e-01  4.45794e-01]\n",
      " [ 4.33550e-02 -5.35090e-02  8.10853e-01  5.81184e-01]\n",
      " [ 4.49180e-02 -6.33680e-02  7.00651e-01  7.09264e-01]\n",
      " [ 3.99690e-02 -7.35940e-02  5.94572e-01  7.99669e-01]\n",
      " [ 3.96350e-02 -6.52020e-02  5.97713e-01  7.98071e-01]\n",
      " [ 3.58940e-02 -7.02680e-02  4.97431e-01  8.63907e-01]\n",
      " [ 3.41520e-02 -8.52720e-02  2.43670e-01  9.65498e-01]\n",
      " [ 2.16950e-02 -6.62960e-02  6.40940e-02  9.95503e-01]\n",
      " [ 4.16500e-03 -6.18290e-02  8.00200e-03  9.98046e-01]\n",
      " [ 2.16600e-03 -9.09190e-02 -1.58691e-01  9.83131e-01]\n",
      " [-4.02700e-03 -5.57320e-02 -2.64083e-01  9.62880e-01]\n",
      " [-1.00020e-02 -5.67690e-02 -3.81107e-01  9.22732e-01]\n",
      " [-1.30750e-02 -5.28320e-02 -4.63115e-01  8.84625e-01]\n",
      " [-1.30350e-02 -5.01700e-02 -3.02595e-01  9.51709e-01]\n",
      " [-1.30110e-02 -9.31670e-02 -1.07539e-01  9.89740e-01]\n",
      " [-1.18900e-03 -6.52840e-02  2.05900e-02  9.97654e-01]\n",
      " [ 4.63400e-03 -7.81390e-02 -1.96600e-03  9.96930e-01]\n",
      " [-1.43900e-03 -9.29110e-02 -1.65680e-02  9.95535e-01]\n",
      " [ 6.06500e-03 -5.35430e-02 -9.02000e-02  9.94465e-01]\n",
      " [-3.78200e-03 -8.44710e-02 -1.27163e-01  9.88271e-01]\n",
      " [ 3.89400e-03 -6.42850e-02 -1.52814e-01  9.86154e-01]\n",
      " [ 7.30500e-03 -8.71260e-02 -1.13414e-01  9.89693e-01]\n",
      " [-1.72810e-02 -8.08650e-02 -1.05935e-01  9.90929e-01]\n",
      " [ 2.76000e-03 -7.95930e-02 -1.11785e-01  9.90536e-01]\n",
      " [-2.74970e-02 -7.80500e-02 -9.90930e-02  9.91631e-01]\n",
      " [ 4.57800e-03 -7.72050e-02 -1.33283e-01  9.88056e-01]\n",
      " [-1.20100e-03 -7.76540e-02 -5.63810e-02  9.95384e-01]\n",
      " [-7.59200e-03 -7.71300e-02  1.07850e-02  9.96934e-01]\n",
      " [-9.93000e-03 -7.32110e-02 -4.86950e-02  9.96078e-01]\n",
      " [ 7.62900e-03 -6.75320e-02 -4.96970e-02  9.96449e-01]\n",
      " [-1.21180e-02 -6.75370e-02 -1.29132e-01  9.89251e-01]\n",
      " [ 1.39510e-02 -7.30450e-02 -1.07384e-01  9.91433e-01]\n",
      " [-5.98100e-03 -7.76170e-02 -9.89220e-02  9.92045e-01]\n",
      " [-1.95170e-02 -8.29660e-02 -1.40977e-01  9.86337e-01]\n",
      " [-1.19110e-02 -8.07570e-02 -1.91233e-01  9.78144e-01]\n",
      " [-1.24610e-02 -7.27810e-02 -1.49304e-01  9.86030e-01]\n",
      " [-6.46500e-03 -8.31720e-02 -9.85940e-02  9.91625e-01]\n",
      " [ 7.73100e-03 -7.64890e-02  6.76820e-02  9.94741e-01]\n",
      " [ 9.85500e-03 -8.26480e-02  1.50731e-01  9.85065e-01]\n",
      " [-2.72400e-03 -8.33850e-02  1.10692e-01  9.90347e-01]\n",
      " [ 2.75870e-02 -8.63660e-02  2.24732e-01  9.70194e-01]\n",
      " [ 1.01470e-02 -7.63110e-02  3.73738e-01  9.24334e-01]\n",
      " [ 1.47200e-02 -8.59400e-02  3.59293e-01  9.29143e-01]\n",
      " [ 1.29410e-02 -7.24930e-02  4.24310e-01  9.02518e-01]\n",
      " [ 2.52040e-02 -7.20510e-02  4.84145e-01  8.71652e-01]\n",
      " [ 2.04330e-02 -6.85460e-02  5.71296e-01  8.17621e-01]\n",
      " [ 4.09440e-02 -4.60890e-02  6.46450e-01  7.60462e-01]\n",
      " [ 3.54810e-02 -5.97310e-02  6.48710e-01  7.57858e-01]\n",
      " [ 3.58410e-02 -6.09050e-02  7.06550e-01  7.04126e-01]\n",
      " [ 4.08170e-02 -4.39100e-02  7.60313e-01  6.46785e-01]\n",
      " [ 4.47570e-02 -1.39910e-02  8.66416e-01  4.97117e-01]\n",
      " [ 5.75310e-02 -2.97480e-02  8.14344e-01  5.76758e-01]\n",
      " [ 5.43270e-02 -3.72740e-02  8.22628e-01  5.64750e-01]\n",
      " [ 5.27440e-02 -3.32640e-02  8.55751e-01  5.13616e-01]\n",
      " [ 5.15040e-02 -1.61940e-02  9.55335e-01  2.90550e-01]\n",
      " [ 5.38370e-02  1.07310e-02  9.89495e-01  1.33736e-01]\n",
      " [ 5.66000e-02  1.11720e-02  9.90055e-01  1.28306e-01]\n",
      " [ 6.00950e-02 -1.16550e-02  9.91749e-01  1.12640e-01]\n",
      " [ 4.68910e-02  1.29760e-02  9.97494e-01 -5.13770e-02]\n",
      " [ 4.64010e-02  1.09280e-02  9.77465e-01 -2.05643e-01]\n",
      " [ 6.05600e-02  1.02980e-02  9.88499e-01 -1.38190e-01]\n",
      " [ 6.06430e-02  8.99000e-03  9.84969e-01 -1.61483e-01]\n",
      " [ 5.95210e-02 -2.78600e-03  9.97277e-01 -4.34410e-02]\n",
      " [ 5.65840e-02 -1.56100e-03  9.94884e-01 -8.36710e-02]\n",
      " [ 5.45100e-02  1.43930e-02  9.98241e-01 -1.83390e-02]\n",
      " [ 5.02460e-02  1.24400e-03  9.92891e-01 -1.07898e-01]\n",
      " [ 4.34400e-02  3.53000e-02  9.41716e-01 -3.31720e-01]\n",
      " [ 5.22970e-02  3.98390e-02  9.47347e-01 -3.13388e-01]\n",
      " [ 3.68540e-02  3.11420e-02  8.99955e-01 -4.33304e-01]\n",
      " [-3.34950e-02 -4.37240e-02 -8.45289e-01  5.31463e-01]\n",
      " [-2.61680e-02 -4.53910e-02 -7.16945e-01  6.95158e-01]\n",
      " [-3.17130e-02 -4.69230e-02 -6.35312e-01  7.70176e-01]\n",
      " [-2.53740e-02 -6.07650e-02 -6.12103e-01  7.88031e-01]\n",
      " [-2.41600e-02 -5.66720e-02 -5.14669e-01  8.55173e-01]\n",
      " [-1.12450e-02 -6.49330e-02 -4.58998e-01  8.85990e-01]\n",
      " [-8.73000e-03 -5.28640e-02 -3.34705e-01  9.40799e-01]\n",
      " [-3.36020e-02 -7.40440e-02 -2.39522e-01  9.67480e-01]\n",
      " [ 4.02100e-03 -8.05130e-02 -1.87678e-01  9.78917e-01]\n",
      " [-3.26360e-02 -7.21860e-02 -2.10369e-01  9.74407e-01]\n",
      " [ 1.18570e-02 -6.60470e-02 -1.07849e-01  9.91900e-01]\n",
      " [-1.35270e-02 -8.21140e-02 -2.78096e-01  9.56941e-01]\n",
      " [-8.76300e-03 -6.52690e-02 -4.76381e-01  8.76769e-01]\n",
      " [-3.01000e-02 -5.13430e-02 -7.28003e-01  6.82986e-01]\n",
      " [ 2.71420e-02  2.66150e-02  9.41740e-01 -3.34187e-01]\n",
      " [ 4.39920e-02  1.48620e-02  9.69063e-01 -2.42407e-01]\n",
      " [ 2.92060e-02  3.93940e-02  9.77267e-01 -2.06264e-01]\n",
      " [ 3.80870e-02  3.74990e-02  9.67066e-01 -2.48852e-01]\n",
      " [ 3.16750e-02  2.82680e-02  9.66314e-01 -2.53839e-01]\n",
      " [ 2.81430e-02  1.41690e-02  9.67993e-01 -2.48990e-01]\n",
      " [ 4.85770e-02  1.93320e-02  9.69315e-01 -2.40196e-01]\n",
      " [ 1.62600e-02  1.44670e-02  9.69804e-01 -2.42912e-01]\n",
      " [ 6.14310e-02  1.69490e-02  9.69607e-01 -2.36222e-01]\n",
      " [ 4.22330e-02  2.10720e-02  9.70614e-01 -2.35968e-01]\n",
      " [ 7.15540e-02  1.46130e-02  9.64971e-01 -2.51985e-01]\n",
      " [ 2.65280e-02  4.20110e-02  9.63219e-01 -2.64084e-01]\n",
      " [ 4.36390e-02  2.66630e-02  9.47955e-01 -3.14271e-01]\n",
      " [ 3.68680e-02  2.29650e-02  9.75234e-01 -2.16871e-01]\n",
      " [ 5.21640e-02  1.50340e-02  9.78699e-01 -1.97991e-01]\n",
      " [ 6.52470e-02  2.20360e-02  9.68053e-01 -2.41105e-01]\n",
      " [ 6.21960e-02  2.47790e-02  9.79029e-01 -1.92406e-01]]\n"
     ]
    }
   ],
   "source": [
    "print(positions)\n",
    "print(quaternions)"
   ]
  },
  {
   "cell_type": "code",
   "execution_count": 30,
   "metadata": {},
   "outputs": [
    {
     "data": {
      "image/png": "[encoded data removed]",
      "text/plain": [
       "<Figure size 1000x800 with 1 Axes>"
      ]
     },
     "metadata": {},
     "output_type": "display_data"
    }
   ],
   "source": [
    "# Create 3D figure\n",
    "fig = plt.figure(figsize=(10, 8))\n",
    "ax = fig.add_subplot(111, projection='3d')\n",
    "\n",
    "# Plot trajectory\n",
    "ax.plot(positions[:, 0], positions[:, 1], positions[:, 2], 'b-', label=\"Trajectory\")\n",
    "\n",
    "# Plot coordinate frames at selected intervals\n",
    "for i in range(0, len(positions), 5):  # Adjust step size for clarity\n",
    "    position = positions[i]\n",
    "    quaternion = quaternions[i]\n",
    "    \n",
    "    # Convert quaternion to rotation matrix\n",
    "    rotation_matrix = matrix_from_quaternion(quaternion)\n",
    "    \n",
    "    # Create homogeneous transformation matrix\n",
    "    transform = np.eye(4)\n",
    "    transform[:3, :3] = rotation_matrix\n",
    "    transform[:3, 3] = position  # Set translation\n",
    "\n",
    "    # Plot frame\n",
    "    plot_transform(ax=ax, A2B=transform, s=0.2)  # Scale of coordinate frame\n",
    "\n",
    "# Labels and legend\n",
    "ax.set_xlabel(\"X [m]\")\n",
    "ax.set_ylabel(\"Y [m]\")\n",
    "ax.set_zlabel(\"Z [m]\")\n",
    "ax.axis('equal')\n",
    "ax.set_title(\"3D SLAM Pose Trajectory\")\n",
    "ax.legend()\n",
    "plt.show()"
   ]
  },
  {
   "cell_type": "code",
   "execution_count": 31,
   "metadata": {},
   "outputs": [
    {
     "data": {
      "application/vnd.plotly.v1+json": {
       "config": {
        "plotlyServerURL": "https://plot.ly"
       },
       "data": [
        {
         "line": {
          "color": "blue",
          "width": 2
         },
         "mode": "lines",
         "name": "Trajectory",
         "showlegend": false,
         "type": "scatter3d",
         "x": {
          "bdata": "AAAAAAAAAAB9IeS8/49Tv0lNu5hmune/bOo8Kv7vqL/3j4XoEDhCv7vTnSees5U/yQImcOtufj83GOqwwi1fP+vHJvkRv8A/QznRrkLK5z9vnBTmPU7zP0IJM23/CvM/cY3PZP/88j/eyhKdZVb0PxEAHHv23PM/tmgB2lYz9T9IiPIFLaT1PwXeyafHNvU/42w6AriZ+D8GnRA66FL7PztUU5J1+P0/09nJ4CiZAECHbvYHys0CQAmp29lXXgVARii2gqalBkDhCijU0ycIQHnOFhBaTwlAzJntCn3wCUCKrgs/OB8LQFAcQL/vvwxAasGLvoJ0DkAZqfdUTpsPQH2TpkHRbBBAtOkI4GbxEUD0Nctlo+MTQHxETIkkKhZAzH9Iv31NF0Dt1FxuMAQYQD4kfO9v8BdACi5W1GB6GECP4hx1dHwZQOnUlc/yfBpAB7R0BdvoG0BXlBKCVTUdQCcxCKwcKh5ABvaYSGlmH0CTc2IP7fMfQEj99QoLbiBAWMudmWDIIEB8uOS4UyIhQPxSP28qWiFAVYSbjCqTIUAdA7LXu9chQOgwX16A9SFAEsE4uHTsIUDjp3FvfushQHNJ1XYT9CFA58WJr3akIUC3Xz5ZMaQgQHZTymslHCBAKuPfZ1xYH0AtBg/TvmkdQKFq9GqAEhtAnyKHiJvzGEDymeyfp6EYQE/N5QZD/RZAu+6tSEygFED11yssuP8SQH/AAwMI/xFAHXV0XI3sEEBxWYXNABcOQAFuFi8WBg1AF5zB3y+GDUAWwf9WskMOQOogrweTAg9A9BlQb0a9EEBSms3jMBgSQLZpbK8FfRNAfPMbJhrkFEAyzAna5HAVQI2bGmg+9xVAhUIEHEJFFkAn2lVI+akWQNUjDW5rKxdAqfkq+dhdF0AZdhiT/q4XQCMva2KBvxhAa7bykv9ZGUAk8fJ0rlgZQHLAriZPyRlAtcAeEyntGkDvA5DaxFkbQDcclgZ+1BlAVYSbjCpzGEA34sluZoQXQIulSL4SeBZAZvhPN1CAFkAyVpv/V90WQH09X7NcFhdAZ7RVSWQ/F0BFnE6y1QUYQKSOjquRvRhA2H3H8NhvGUBKDW0ANsAaQBN/FHXmHhxAGLSQgNHlHUCygXSxaaUfQEtbXOMzUSBAh8H8FTIHIUB/MsaH2ZMhQHsQAvIlNCJAZYo5CDqqIkCmZDkJpc8iQApJZvUOryJALUMc6+JmIkBpGan3VJYiQISc9/9x8iFAHZJaKJmcIUBWgzC3eykhQMk6HF2luyBAjSRBuAKCIEA2BMdl3KQgQHqmlxjLxCBAisqGNZVdIEAnFviKbj0fQFCqfToeUx5APjxLkBGwHUAj2/l+avwcQE+RQ8TNqRxAn7DEA8pmHEA3NjtSfYcbQPvJGB9m7xpAF9f4TPbvG0CTHoZWJ4ccQIRJ8fEJ6RxAcTjzqznQHUCAY8+ey2QfQO86G/LP1CBAvp8aL93sIUB3L/fJUZgiQFRVaCCWFSNABVJi1/YeI0D8w5YeTeUjQCXJc30fHiRAwJXs2AikJEBqMuNtpdckQMJR8uoc8yRA4IRCBBxaJUDU00fgD48lQMwMG2X9diVAm6xRD9GIJUAXRnpRu28lQLQdU3dlVyVARpiiXBo3JUD84lKVtjglQIT0FDlELCVACVOUS+MnJUBBKsWOxvkkQLFs5pDUwiRAtkqwOJzJJEBeZAJ+jewkQLMHWoEhIyVAFVRU/Up/JUDltKfknKAlQASr6uV30iVArROX4xV4JkDMeca+ZOMmQDzcDg2LSSdA6X5OQX7GJ0CXrmAb8RwoQHx716AvxShAc6JdhZRXKUATfNP02dEqQDIEAMeeZStAB5lk5CwcLEBjZMkcyzstQJ62RgTjMC5AtcNfkzWCLkARUrezr6wuQKmG/Z5Yjy5AAfp9/+adLkAc6+I2GpAuQMqHoGr0Oi5AcCcR4V+ELkBMiSR6GdUuQODZHr3h9i5A9GxWfa4eL0CGr691qSkvQMDMd/ATFy9AzuLFwhChLkBYrOEi9+wtQHCYaJCCBy1AVS5U/rUsLEC3RgTj4OoqQL4UHjS7xilAH/ZCAdv5J0CbWOArurUmQO87hsd+5iVAFkz8UdRJJUA+527XSxslQA4SonxBKyVADw9h/DT+JECOOjquRu4kQJzAdFq3ASVARKLQsu63JEDbFmU2yEwkQGub4nFR/SNAeA360ttHI0Co/Gt55SoiQPooIy4ADSBATQ8KStGaHECFsYUgBwUYQJ8DyxEyUBRAjNgngGLUEECtbvWc9J4JQF2lu+tsiARA3smnx7bM/j/T+fAsQcb4P7/XEByXcfQ/7fMY5ZkX8z/AeAYN/ZPuP2dg5GVNLOg/qdvZVx4k5j8=",
          "dtype": "f8"
         },
         "y": {
          "bdata": "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",
          "dtype": "f8"
         },
         "z": {
          "bdata": "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",
          "dtype": "f8"
         }
        },
        {
         "line": {
          "color": "red",
          "width": 5
         },
         "mode": "lines",
         "name": "red axis",
         "showlegend": false,
         "type": "scatter3d",
         "x": [
          0,
          0.19827686401879646
         ],
         "y": [
          0,
          -0.0010470617658270406
         ],
         "z": [
          0,
          0.026176112326513196
         ]
        },
        {
         "line": {
          "color": "green",
          "width": 5
         },
         "mode": "lines",
         "name": "green axis",
         "showlegend": false,
         "type": "scatter3d",
         "x": [
          0,
          -0.0006241913382446418
         ],
         "y": [
          0,
          0.1995946281149106
         ],
         "z": [
          0,
          0.012711994841243003
         ]
        },
        {
         "line": {
          "color": "blue",
          "width": 5
         },
         "mode": "lines",
         "name": "blue axis",
         "showlegend": false,
         "type": "scatter3d",
         "x": [
          0,
          -0.026189608245350934
         ],
         "y": [
          0,
          -0.012684166875639547
         ],
         "z": [
          0,
          0.19787171685368773
         ]
        },
        {
         "line": {
          "color": "red",
          "width": 5
         },
         "mode": "lines",
         "name": "red axis",
         "showlegend": false,
         "type": "scatter3d",
         "x": [
          0.021193,
          0.21934764043289653
         ],
         "y": [
          -0.120612,
          -0.11794693803090758
         ],
         "z": [
          -0.013596,
          0.013378727424209029
         ]
        },
        {
         "line": {
          "color": "green",
          "width": 5
         },
         "mode": "lines",
         "name": "green axis",
         "showlegend": false,
         "type": "scatter3d",
         "x": [
          0.021193,
          0.01684653553706466
         ],
         "y": [
          -0.120612,
          0.07896757605501561
         ],
         "z": [
          -0.013596,
          -0.0013853051642146487
         ]
        },
        {
         "line": {
          "color": "blue",
          "width": 5
         },
         "mode": "lines",
         "name": "blue axis",
         "showlegend": false,
         "type": "scatter3d",
         "x": [
          0.021193,
          -0.005562312025500983
         ],
         "y": [
          -0.120612,
          -0.13329625269383782
         ],
         "z": [
          -0.013596,
          0.18420001364035865
         ]
        },
        {
         "line": {
          "color": "red",
          "width": 5
         },
         "mode": "lines",
         "name": "red axis",
         "showlegend": false,
         "type": "scatter3d",
         "x": [
          1.206602,
          1.4056231682938998
         ],
         "y": [
          -0.039111,
          -0.031957095028923174
         ],
         "z": [
          -0.303663,
          -0.28524029079109103
         ]
        },
        {
         "line": {
          "color": "green",
          "width": 5
         },
         "mode": "lines",
         "name": "green axis",
         "showlegend": false,
         "type": "scatter3d",
         "x": [
          1.206602,
          1.1992195986735488
         ],
         "y": [
          -0.039111,
          0.16074118510626959
         ],
         "z": [
          -0.303663,
          -0.301517246308501
         ]
        },
        {
         "line": {
          "color": "blue",
          "width": 5
         },
         "mode": "lines",
         "name": "blue axis",
         "showlegend": false,
         "type": "scatter3d",
         "x": [
          1.206602,
          1.1882696591351123
         ],
         "y": [
          -0.039111,
          -0.04192627119726874
         ],
         "z": [
          -0.303663,
          -0.10452485818256863
         ]
        },
        {
         "line": {
          "color": "red",
          "width": 5
         },
         "mode": "lines",
         "name": "red axis",
         "showlegend": false,
         "type": "scatter3d",
         "x": [
          1.325034,
          1.5228330230462346
         ],
         "y": [
          -0.068324,
          -0.07274153495991131
         ],
         "z": [
          0.321592,
          0.3508500222645531
         ]
        },
        {
         "line": {
          "color": "green",
          "width": 5
         },
         "mode": "lines",
         "name": "green axis",
         "showlegend": false,
         "type": "scatter3d",
         "x": [
          1.325034,
          1.3273295330879074
         ],
         "y": [
          -0.068324,
          0.13112950027156112
         ],
         "z": [
          0.321592,
          0.33618760746473686
         ]
        },
        {
         "line": {
          "color": "blue",
          "width": 5
         },
         "mode": "lines",
         "name": "blue axis",
         "showlegend": false,
         "type": "scatter3d",
         "x": [
          1.325034,
          1.295533542210375
         ],
         "y": [
          -0.068324,
          -0.08242317069548136
         ],
         "z": [
          0.321592,
          0.5189012404726707
         ]
        },
        {
         "line": {
          "color": "red",
          "width": 5
         },
         "mode": "lines",
         "name": "red axis",
         "showlegend": false,
         "type": "scatter3d",
         "x": [
          1.873159,
          2.0621920803838836
         ],
         "y": [
          -1.038552,
          -1.1009944950345556
         ],
         "z": [
          0.629903,
          0.649071446323051
         ]
        },
        {
         "line": {
          "color": "green",
          "width": 5
         },
         "mode": "lines",
         "name": "green axis",
         "showlegend": false,
         "type": "scatter3d",
         "x": [
          1.873159,
          1.9351121934589786
         ],
         "y": [
          -1.038552,
          -0.8485561699587645
         ],
         "z": [
          0.629903,
          0.6378645568311981
         ]
        },
        {
         "line": {
          "color": "blue",
          "width": 5
         },
         "mode": "lines",
         "name": "blue axis",
         "showlegend": false,
         "type": "scatter3d",
         "x": [
          1.873159,
          1.852463678286758
         ],
         "y": [
          -1.038552,
          -1.0401392557454634
         ],
         "z": [
          0.629903,
          0.8288230449386234
         ]
        },
        {
         "line": {
          "color": "red",
          "width": 5
         },
         "mode": "lines",
         "name": "red axis",
         "showlegend": false,
         "type": "scatter3d",
         "x": [
          3.019447,
          3.2061800519779178
         ],
         "y": [
          -1.337721,
          -1.4037810110129643
         ],
         "z": [
          0.547373,
          0.5750649165819063
         ]
        },
        {
         "line": {
          "color": "green",
          "width": 5
         },
         "mode": "lines",
         "name": "green axis",
         "showlegend": false,
         "type": "scatter3d",
         "x": [
          3.019447,
          3.084653988336776
         ],
         "y": [
          -1.337721,
          -1.148947881652826
         ],
         "z": [
          0.547373,
          0.5579917787212749
         ]
        },
        {
         "line": {
          "color": "blue",
          "width": 5
         },
         "mode": "lines",
         "name": "blue axis",
         "showlegend": false,
         "type": "scatter3d",
         "x": [
          3.019447,
          2.9898021695727603
         ],
         "y": [
          -1.337721,
          -1.3386068523866124
         ],
         "z": [
          0.547373,
          0.7451617744400307
         ]
        },
        {
         "line": {
          "color": "red",
          "width": 5
         },
         "mode": "lines",
         "name": "red axis",
         "showlegend": false,
         "type": "scatter3d",
         "x": [
          3.80689,
          3.917285831782027
         ],
         "y": [
          -0.672431,
          -0.8373044280893015
         ],
         "z": [
          0.514599,
          0.5396890983504724
         ]
        },
        {
         "line": {
          "color": "green",
          "width": 5
         },
         "mode": "lines",
         "name": "green axis",
         "showlegend": false,
         "type": "scatter3d",
         "x": [
          3.80689,
          3.9730849380273683
         ],
         "y": [
          -0.672431,
          -0.5611690233117359
         ],
         "z": [
          0.514599,
          0.5144760467590617
         ]
        },
        {
         "line": {
          "color": "blue",
          "width": 5
         },
         "mode": "lines",
         "name": "blue axis",
         "showlegend": false,
         "type": "scatter3d",
         "x": [
          3.80689,
          3.7930334889227586
         ],
         "y": [
          -0.672431,
          -0.651513895671195
         ],
         "z": [
          0.514599,
          0.713018938129373
         ]
        },
        {
         "line": {
          "color": "red",
          "width": 5
         },
         "mode": "lines",
         "name": "red axis",
         "showlegend": false,
         "type": "scatter3d",
         "x": [
          5.541155,
          5.580619969481985
         ],
         "y": [
          -0.31358,
          -0.5078675136026307
         ],
         "z": [
          0.527754,
          0.554114543277663
         ]
        },
        {
         "line": {
          "color": "green",
          "width": 5
         },
         "mode": "lines",
         "name": "green axis",
         "showlegend": false,
         "type": "scatter3d",
         "x": [
          5.541155,
          5.737151428376804
         ],
         "y": [
          -0.31358,
          -0.27376293429123366
         ],
         "z": [
          0.527754,
          0.5277906316820513
         ]
        },
        {
         "line": {
          "color": "blue",
          "width": 5
         },
         "mode": "lines",
         "name": "blue axis",
         "showlegend": false,
         "type": "scatter3d",
         "x": [
          5.541155,
          5.535871417188848
         ],
         "y": [
          -0.31358,
          -0.2877543666786006
         ],
         "z": [
          0.527754,
          0.72600919013692
         ]
        },
        {
         "line": {
          "color": "red",
          "width": 5
         },
         "mode": "lines",
         "name": "red axis",
         "showlegend": false,
         "type": "scatter3d",
         "x": [
          6.371538,
          6.275108122534611
         ],
         "y": [
          -0.446669,
          -0.6206126425744919
         ],
         "z": [
          0.545248,
          0.5663403668640453
         ]
        },
        {
         "line": {
          "color": "green",
          "width": 5
         },
         "mode": "lines",
         "name": "green axis",
         "showlegend": false,
         "type": "scatter3d",
         "x": [
          6.371538,
          6.546576440460531
         ],
         "y": [
          -0.446669,
          -0.5433887352412625
         ],
         "z": [
          0.545248,
          0.547862799419696
         ]
        },
        {
         "line": {
          "color": "blue",
          "width": 5
         },
         "mode": "lines",
         "name": "blue axis",
         "showlegend": false,
         "type": "scatter3d",
         "x": [
          6.371538,
          6.379464102015192
         ],
         "y": [
          -0.446669,
          -0.42694840105429127
         ],
         "z": [
          0.545248,
          0.7441154807103144
         ]
        },
        {
         "line": {
          "color": "red",
          "width": 5
         },
         "mode": "lines",
         "name": "red axis",
         "showlegend": false,
         "type": "scatter3d",
         "x": [
          7.850011,
          7.667337147267938
         ],
         "y": [
          -1.253177,
          -1.3320895046599108
         ],
         "z": [
          0.921109,
          0.9411858557380005
         ]
        },
        {
         "line": {
          "color": "green",
          "width": 5
         },
         "mode": "lines",
         "name": "green axis",
         "showlegend": false,
         "type": "scatter3d",
         "x": [
          7.850011,
          7.9291179773865785
         ],
         "y": [
          -1.253177,
          -1.436854317266283
         ],
         "z": [
          0.921109,
          0.9189343159722339
         ]
        },
        {
         "line": {
          "color": "blue",
          "width": 5
         },
         "mode": "lines",
         "name": "blue axis",
         "showlegend": false,
         "type": "scatter3d",
         "x": [
          7.850011,
          7.869307363822865
         ],
         "y": [
          -1.253177,
          -1.2472221926848366
         ],
         "z": [
          0.921109,
          1.120086864630855
         ]
        },
        {
         "line": {
          "color": "red",
          "width": 5
         },
         "mode": "lines",
         "name": "red axis",
         "showlegend": false,
         "type": "scatter3d",
         "x": [
          8.676105,
          8.477522903267948
         ],
         "y": [
          -3.059956,
          -3.070495709629695
         ],
         "z": [
          1.057395,
          1.0787038098781665
         ]
        },
        {
         "line": {
          "color": "green",
          "width": 5
         },
         "mode": "lines",
         "name": "green axis",
         "showlegend": false,
         "type": "scatter3d",
         "x": [
          8.676105,
          8.686310983945774
         ],
         "y": [
          -3.059956,
          -3.259661781867909
         ],
         "z": [
          1.057395,
          1.053729133086724
         ]
        },
        {
         "line": {
          "color": "blue",
          "width": 5
         },
         "mode": "lines",
         "name": "blue axis",
         "showlegend": false,
         "type": "scatter3d",
         "x": [
          8.676105,
          8.697575648551004
         ],
         "y": [
          -3.059956,
          -3.0625084908322946
         ],
         "z": [
          1.057395,
          1.2562228050005841
         ]
        },
        {
         "line": {
          "color": "red",
          "width": 5
         },
         "mode": "lines",
         "name": "red axis",
         "showlegend": false,
         "type": "scatter3d",
         "x": [
          8.959949,
          8.768503387926405
         ],
         "y": [
          -4.487271,
          -4.433684784505528
         ],
         "z": [
          1.198068,
          1.2199105073365308
         ]
        },
        {
         "line": {
          "color": "green",
          "width": 5
         },
         "mode": "lines",
         "name": "green axis",
         "showlegend": false,
         "type": "scatter3d",
         "x": [
          8.959949,
          8.906130441606855
         ],
         "y": [
          -4.487271,
          -4.679891988425775
         ],
         "z": [
          1.198068,
          1.198915107054269
         ]
        },
        {
         "line": {
          "color": "blue",
          "width": 5
         },
         "mode": "lines",
         "name": "blue axis",
         "showlegend": false,
         "type": "scatter3d",
         "x": [
          8.959949,
          8.981212593070083
         ],
         "y": [
          -4.487271,
          -4.4923377866402365
         ],
         "z": [
          1.198068,
          1.3968698794752508
         ]
        },
        {
         "line": {
          "color": "red",
          "width": 5
         },
         "mode": "lines",
         "name": "red axis",
         "showlegend": false,
         "type": "scatter3d",
         "x": [
          7.83629,
          7.86549188902037
         ],
         "y": [
          -5.609029,
          -5.412791941350742
         ],
         "z": [
          1.079645,
          1.1049089365564781
         ]
        },
        {
         "line": {
          "color": "green",
          "width": 5
         },
         "mode": "lines",
         "name": "green axis",
         "showlegend": false,
         "type": "scatter3d",
         "x": [
          7.83629,
          7.638674307011829
         ],
         "y": [
          -5.609029,
          -5.578841482955993
         ],
         "z": [
          1.079645,
          1.0735826820008327
         ]
        },
        {
         "line": {
          "color": "blue",
          "width": 5
         },
         "mode": "lines",
         "name": "blue axis",
         "showlegend": false,
         "type": "scatter3d",
         "x": [
          7.83629,
          7.826528465159248
         ],
         "y": [
          -5.609029,
          -5.633106595963998
         ],
         "z": [
          1.079645,
          1.2779502742872646
         ]
        },
        {
         "line": {
          "color": "red",
          "width": 5
         },
         "mode": "lines",
         "name": "red axis",
         "showlegend": false,
         "type": "scatter3d",
         "x": [
          5.747326,
          5.848853012312339
         ],
         "y": [
          -5.194369,
          -5.024733761282594
         ],
         "z": [
          0.640115,
          0.6703829955764959
         ]
        },
        {
         "line": {
          "color": "green",
          "width": 5
         },
         "mode": "lines",
         "name": "green axis",
         "showlegend": false,
         "type": "scatter3d",
         "x": [
          5.747326,
          5.576443242549223
         ],
         "y": [
          -5.194369,
          -5.090731748208759
         ],
         "z": [
          0.640115,
          0.6324727982768261
         ]
        },
        {
         "line": {
          "color": "blue",
          "width": 5
         },
         "mode": "lines",
         "name": "blue axis",
         "showlegend": false,
         "type": "scatter3d",
         "x": [
          5.747326,
          5.725159607037927
         ],
         "y": [
          -5.194369,
          -5.216350943190887
         ],
         "z": [
          0.640115,
          0.8376635894573878
         ]
        },
        {
         "line": {
          "color": "red",
          "width": 5
         },
         "mode": "lines",
         "name": "red axis",
         "showlegend": false,
         "type": "scatter3d",
         "x": [
          3.761232,
          3.9432056393627515
         ],
         "y": [
          -2.920619,
          -2.8431839557550176
         ],
         "z": [
          0.761129,
          0.7909519525676618
         ]
        },
        {
         "line": {
          "color": "green",
          "width": 5
         },
         "mode": "lines",
         "name": "green axis",
         "showlegend": false,
         "type": "scatter3d",
         "x": [
          3.761232,
          3.6827040261966353
         ],
         "y": [
          -2.920619,
          -2.736687367735687
         ],
         "z": [
          0.761129,
          0.7627139236333967
         ]
        },
        {
         "line": {
          "color": "blue",
          "width": 5
         },
         "mode": "lines",
         "name": "blue axis",
         "showlegend": false,
         "type": "scatter3d",
         "x": [
          3.761232,
          3.734418721434829
         ],
         "y": [
          -2.920619,
          -2.9337707517982676
         ],
         "z": [
          0.761129,
          0.9588866282150028
         ]
        },
        {
         "line": {
          "color": "red",
          "width": 5
         },
         "mode": "lines",
         "name": "red axis",
         "showlegend": false,
         "type": "scatter3d",
         "x": [
          4.184839,
          4.3690705103386405
         ],
         "y": [
          -1.253115,
          -1.3282287965201434
         ],
         "z": [
          0.576193,
          0.5966054513636624
         ]
        },
        {
         "line": {
          "color": "green",
          "width": 5
         },
         "mode": "lines",
         "name": "green axis",
         "showlegend": false,
         "type": "scatter3d",
         "x": [
          4.184839,
          4.259282389744632
         ],
         "y": [
          -1.253115,
          -1.067764549672532
         ],
         "z": [
          0.576193,
          0.5863611997784133
         ]
        },
        {
         "line": {
          "color": "blue",
          "width": 5
         },
         "mode": "lines",
         "name": "blue axis",
         "showlegend": false,
         "type": "scatter3d",
         "x": [
          4.184839,
          4.1621028542916285
         ],
         "y": [
          -1.253115,
          -1.2548836536504684
         ],
         "z": [
          0.576193,
          0.7748885951766228
         ]
        },
        {
         "line": {
          "color": "red",
          "width": 5
         },
         "mode": "lines",
         "name": "red axis",
         "showlegend": false,
         "type": "scatter3d",
         "x": [
          5.491449,
          5.511640383053841
         ],
         "y": [
          0.337029,
          0.5343177461415554
         ],
         "z": [
          0.662771,
          0.6886448999044599
         ]
        },
        {
         "line": {
          "color": "green",
          "width": 5
         },
         "mode": "lines",
         "name": "green axis",
         "showlegend": false,
         "type": "scatter3d",
         "x": [
          5.491449,
          5.292523533376958
         ],
         "y": [
          0.337029,
          0.35764212378815713
         ],
         "z": [
          0.662771,
          0.6608324808489832
         ]
        },
        {
         "line": {
          "color": "blue",
          "width": 5
         },
         "mode": "lines",
         "name": "blue axis",
         "showlegend": false,
         "type": "scatter3d",
         "x": [
          5.491449,
          5.486870050428558
         ],
         "y": [
          0.337029,
          0.311489818854414
         ],
         "z": [
          0.662771,
          0.861080816820134
         ]
        },
        {
         "line": {
          "color": "red",
          "width": 5
         },
         "mode": "lines",
         "name": "red axis",
         "showlegend": false,
         "type": "scatter3d",
         "x": [
          5.920893,
          6.007835476983141
         ],
         "y": [
          3.742281,
          3.9207638946402965
         ],
         "z": [
          0.649843,
          0.6740269206262531
         ]
        },
        {
         "line": {
          "color": "green",
          "width": 5
         },
         "mode": "lines",
         "name": "green axis",
         "showlegend": false,
         "type": "scatter3d",
         "x": [
          5.920893,
          5.741017953959431
         ],
         "y": [
          3.742281,
          3.829704389308152
         ],
         "z": [
          0.649843,
          0.6512986145706569
         ]
        },
        {
         "line": {
          "color": "blue",
          "width": 5
         },
         "mode": "lines",
         "name": "blue axis",
         "showlegend": false,
         "type": "scatter3d",
         "x": [
          5.920893,
          5.911620809970726
         ],
         "y": [
          3.742281,
          3.719897807138028
         ],
         "z": [
          0.649843,
          0.8483701245179478
         ]
        },
        {
         "line": {
          "color": "red",
          "width": 5
         },
         "mode": "lines",
         "name": "red axis",
         "showlegend": false,
         "type": "scatter3d",
         "x": [
          6.731602,
          6.840250216702726
         ],
         "y": [
          4.453993,
          4.618744614682034
         ],
         "z": [
          0.644566,
          0.6770078012289675
         ]
        },
        {
         "line": {
          "color": "green",
          "width": 5
         },
         "mode": "lines",
         "name": "green axis",
         "showlegend": false,
         "type": "scatter3d",
         "x": [
          6.731602,
          6.565390088090057
         ],
         "y": [
          4.453993,
          4.565002731934917
         ],
         "z": [
          0.644566,
          0.6374639048880418
         ]
        },
        {
         "line": {
          "color": "blue",
          "width": 5
         },
         "mode": "lines",
         "name": "blue axis",
         "showlegend": false,
         "type": "scatter3d",
         "x": [
          6.731602,
          6.70774481352383
         ],
         "y": [
          4.453993,
          4.430890080803492
         ],
         "z": [
          0.644566,
          0.8417894513896378
         ]
        },
        {
         "line": {
          "color": "red",
          "width": 5
         },
         "mode": "lines",
         "name": "red axis",
         "showlegend": false,
         "type": "scatter3d",
         "x": [
          5.617259,
          5.765514923066227
         ],
         "y": [
          5.073123,
          5.205479771890878
         ],
         "z": [
          0.585804,
          0.6082063706425729
         ]
        },
        {
         "line": {
          "color": "green",
          "width": 5
         },
         "mode": "lines",
         "name": "green axis",
         "showlegend": false,
         "type": "scatter3d",
         "x": [
          5.617259,
          5.48377148445518
         ],
         "y": [
          5.073123,
          5.222008608047873
         ],
         "z": [
          0.585804,
          0.589566832694468
         ]
        },
        {
         "line": {
          "color": "blue",
          "width": 5
         },
         "mode": "lines",
         "name": "blue axis",
         "showlegend": false,
         "type": "scatter3d",
         "x": [
          5.617259,
          5.603072229068859
         ],
         "y": [
          5.073123,
          5.0553815048307325
         ],
         "z": [
          0.585804,
          0.784509749488298
         ]
        },
        {
         "line": {
          "color": "red",
          "width": 5
         },
         "mode": "lines",
         "name": "red axis",
         "showlegend": false,
         "type": "scatter3d",
         "x": [
          6.005698,
          6.199562364637169
         ],
         "y": [
          6.826694,
          6.789728955984872
         ],
         "z": [
          0.518636,
          0.5510426913582148
         ]
        },
        {
         "line": {
          "color": "green",
          "width": 5
         },
         "mode": "lines",
         "name": "green axis",
         "showlegend": false,
         "type": "scatter3d",
         "x": [
          6.005698,
          6.043501547660966
         ],
         "y": [
          6.826694,
          7.023077040539634
         ],
         "z": [
          0.518636,
          0.5164928311653856
         ]
        },
        {
         "line": {
          "color": "blue",
          "width": 5
         },
         "mode": "lines",
         "name": "blue axis",
         "showlegend": false,
         "type": "scatter3d",
         "x": [
          6.005698,
          5.9742734887377384
         ],
         "y": [
          6.826694,
          6.8348968598286355
         ],
         "z": [
          0.518636,
          0.715981415914735
         ]
        },
        {
         "line": {
          "color": "red",
          "width": 5
         },
         "mode": "lines",
         "name": "red axis",
         "showlegend": false,
         "type": "scatter3d",
         "x": [
          7.474432,
          7.470659650601122
         ],
         "y": [
          8.415019,
          8.216644819805923
         ],
         "z": [
          0.953914,
          0.9790825123187894
         ]
        },
        {
         "line": {
          "color": "green",
          "width": 5
         },
         "mode": "lines",
         "name": "green axis",
         "showlegend": false,
         "type": "scatter3d",
         "x": [
          7.474432,
          7.67439282783484
         ],
         "y": [
          8.415019,
          8.411427610110627
         ],
         "z": [
          0.953914,
          0.9555781064473681
         ]
        },
        {
         "line": {
          "color": "blue",
          "width": 5
         },
         "mode": "lines",
         "name": "blue axis",
         "showlegend": false,
         "type": "scatter3d",
         "x": [
          7.474432,
          7.4732333709421
         ],
         "y": [
          8.415019,
          8.440213970747964
         ],
         "z": [
          0.953914,
          1.152317066350777
         ]
        },
        {
         "line": {
          "color": "red",
          "width": 5
         },
         "mode": "lines",
         "name": "red axis",
         "showlegend": false,
         "type": "scatter3d",
         "x": [
          9.101852,
          8.96322305232008
         ],
         "y": [
          7.59482,
          7.451985706459064
         ],
         "z": [
          0.822212,
          0.8417153190462462
         ]
        },
        {
         "line": {
          "color": "green",
          "width": 5
         },
         "mode": "lines",
         "name": "green axis",
         "showlegend": false,
         "type": "scatter3d",
         "x": [
          9.101852,
          9.245448201948467
         ],
         "y": [
          7.59482,
          7.455612447263925
         ],
         "z": [
          0.822212,
          0.8233901541528813
         ]
        },
        {
         "line": {
          "color": "blue",
          "width": 5
         },
         "mode": "lines",
         "name": "blue axis",
         "showlegend": false,
         "type": "scatter3d",
         "x": [
          9.101852,
          9.114585642492747
         ],
         "y": [
          7.59482,
          7.609639644054244
         ],
         "z": [
          0.822212,
          1.02125529302685
         ]
        },
        {
         "line": {
          "color": "red",
          "width": 5
         },
         "mode": "lines",
         "name": "red axis",
         "showlegend": false,
         "type": "scatter3d",
         "x": [
          9.293617,
          9.122689938342393
         ],
         "y": [
          5.444657,
          5.341479582795014
         ],
         "z": [
          0.466134,
          0.4778966600735262
         ]
        },
        {
         "line": {
          "color": "green",
          "width": 5
         },
         "mode": "lines",
         "name": "green axis",
         "showlegend": false,
         "type": "scatter3d",
         "x": [
          9.293617,
          9.39733569300743
         ],
         "y": [
          5.444657,
          5.27391748301765
         ],
         "z": [
          0.466134,
          0.47564452372186933
         ]
        },
        {
         "line": {
          "color": "blue",
          "width": 5
         },
         "mode": "lines",
         "name": "blue axis",
         "showlegend": false,
         "type": "scatter3d",
         "x": [
          9.293617,
          9.29875239812746
         ],
         "y": [
          5.444657,
          5.4588850680186045
         ],
         "z": [
          0.466134,
          0.6655611540350772
         ]
        },
        {
         "line": {
          "color": "red",
          "width": 5
         },
         "mode": "lines",
         "name": "red axis",
         "showlegend": false,
         "type": "scatter3d",
         "x": [
          8.253927,
          8.063235796058848
         ],
         "y": [
          5.016136,
          5.071218197390984
         ],
         "z": [
          0.354346,
          0.3788983169997308
         ]
        },
        {
         "line": {
          "color": "green",
          "width": 5
         },
         "mode": "lines",
         "name": "green axis",
         "showlegend": false,
         "type": "scatter3d",
         "x": [
          8.253927,
          8.198301935610992
         ],
         "y": [
          5.016136,
          4.824029866492726
         ],
         "z": [
          0.354346,
          0.3533040400180649
         ]
        },
        {
         "line": {
          "color": "blue",
          "width": 5
         },
         "mode": "lines",
         "name": "blue axis",
         "showlegend": false,
         "type": "scatter3d",
         "x": [
          8.253927,
          8.277223286210322
         ],
         "y": [
          5.016136,
          5.008313915912885
         ],
         "z": [
          0.354346,
          0.5528305032977154
         ]
        },
        {
         "line": {
          "color": "red",
          "width": 5
         },
         "mode": "lines",
         "name": "red axis",
         "showlegend": false,
         "type": "scatter3d",
         "x": [
          7.58117,
          7.5831991434767625
         ],
         "y": [
          4.563795,
          4.761434992573525
         ],
         "z": [
          0.716463,
          0.7470295816258165
         ]
        },
        {
         "line": {
          "color": "green",
          "width": 5
         },
         "mode": "lines",
         "name": "green axis",
         "showlegend": false,
         "type": "scatter3d",
         "x": [
          7.58117,
          7.381252917222652
         ],
         "y": [
          4.563795,
          4.566623293856566
         ],
         "z": [
          0.716463,
          0.7114469489978544
         ]
        },
        {
         "line": {
          "color": "blue",
          "width": 5
         },
         "mode": "lines",
         "name": "blue axis",
         "showlegend": false,
         "type": "scatter3d",
         "x": [
          7.58117,
          7.575780882210795
         ],
         "y": [
          4.563795,
          4.533291982290306
         ],
         "z": [
          0.716463,
          0.9140497488473257
         ]
        },
        {
         "line": {
          "color": "red",
          "width": 5
         },
         "mode": "lines",
         "name": "red axis",
         "showlegend": false,
         "type": "scatter3d",
         "x": [
          6.882314,
          7.078912720147376
         ],
         "y": [
          4.415297,
          4.440243988617764
         ],
         "z": [
          0.68653,
          0.7134853518863858
         ]
        },
        {
         "line": {
          "color": "green",
          "width": 5
         },
         "mode": "lines",
         "name": "green axis",
         "showlegend": false,
         "type": "scatter3d",
         "x": [
          6.882314,
          6.856216378117256
         ],
         "y": [
          4.415297,
          4.6134655146323125
         ],
         "z": [
          0.68653,
          0.6934693040348543
         ]
        },
        {
         "line": {
          "color": "blue",
          "width": 5
         },
         "mode": "lines",
         "name": "blue axis",
         "showlegend": false,
         "type": "scatter3d",
         "x": [
          6.882314,
          6.8564710634702815
         ],
         "y": [
          4.415297,
          4.4049583556339345
         ],
         "z": [
          0.68653,
          0.8845836671313938
         ]
        },
        {
         "line": {
          "color": "red",
          "width": 5
         },
         "mode": "lines",
         "name": "red axis",
         "showlegend": false,
         "type": "scatter3d",
         "x": [
          7.453345,
          7.566438229770944
         ],
         "y": [
          2.783744,
          2.6201469164154694
         ],
         "z": [
          0.630384,
          0.6515007142949005
         ]
        },
        {
         "line": {
          "color": "green",
          "width": 5
         },
         "mode": "lines",
         "name": "green axis",
         "showlegend": false,
         "type": "scatter3d",
         "x": [
          7.453345,
          7.617494706818636
         ],
         "y": [
          2.783744,
          2.8978853365855994
         ],
         "z": [
          0.630384,
          0.6355443327226628
         ]
        },
        {
         "line": {
          "color": "blue",
          "width": 5
         },
         "mode": "lines",
         "name": "blue axis",
         "showlegend": false,
         "type": "scatter3d",
         "x": [
          7.453345,
          7.437072473111652
         ],
         "y": [
          2.783744,
          2.798157518830911
         ],
         "z": [
          0.630384,
          0.829199128558113
         ]
        },
        {
         "line": {
          "color": "red",
          "width": 5
         },
         "mode": "lines",
         "name": "red axis",
         "showlegend": false,
         "type": "scatter3d",
         "x": [
          9.542161,
          9.738598215274891
         ],
         "y": [
          1.405392,
          1.3988478632103667
         ],
         "z": [
          0.588046,
          0.6250540360019945
         ]
        },
        {
         "line": {
          "color": "green",
          "width": 5
         },
         "mode": "lines",
         "name": "green axis",
         "showlegend": false,
         "type": "scatter3d",
         "x": [
          9.542161,
          9.548812096044125
         ],
         "y": [
          1.405392,
          1.6052813721468908
         ],
         "z": [
          0.588046,
          0.58808870987764
         ]
        },
        {
         "line": {
          "color": "blue",
          "width": 5
         },
         "mode": "lines",
         "name": "blue axis",
         "showlegend": false,
         "type": "scatter3d",
         "x": [
          9.542161,
          9.50517203709945
         ],
         "y": [
          1.405392,
          1.406580770962127
         ],
         "z": [
          0.588046,
          0.784592186549476
         ]
        },
        {
         "line": {
          "color": "red",
          "width": 5
         },
         "mode": "lines",
         "name": "red axis",
         "showlegend": false,
         "type": "scatter3d",
         "x": [
          10.421184,
          10.614079453069321
         ],
         "y": [
          1.043323,
          1.0018923577307517
         ],
         "z": [
          0.546852,
          0.5796368450711459
         ]
        },
        {
         "line": {
          "color": "green",
          "width": 5
         },
         "mode": "lines",
         "name": "green axis",
         "showlegend": false,
         "type": "scatter3d",
         "x": [
          10.421184,
          10.463732584398777
         ],
         "y": [
          1.043323,
          1.2387146584548854
         ],
         "z": [
          0.546852,
          0.5434288768778067
         ]
        },
        {
         "line": {
          "color": "blue",
          "width": 5
         },
         "mode": "lines",
         "name": "blue axis",
         "showlegend": false,
         "type": "scatter3d",
         "x": [
          10.421184,
          10.389863684694408
         ],
         "y": [
          1.043323,
          1.0535992681653898
         ],
         "z": [
          0.546852,
          0.7441168883145485
         ]
        },
        {
         "line": {
          "color": "red",
          "width": 5
         },
         "mode": "lines",
         "name": "red axis",
         "showlegend": false,
         "type": "scatter3d",
         "x": [
          10.76722,
          10.964793859700913
         ],
         "y": [
          1.020925,
          1.0254599998825296
         ],
         "z": [
          0.482113,
          0.5128376438376294
         ]
        },
        {
         "line": {
          "color": "green",
          "width": 5
         },
         "mode": "lines",
         "name": "green axis",
         "showlegend": false,
         "type": "scatter3d",
         "x": [
          10.76722,
          10.763153456701861
         ],
         "y": [
          1.020925,
          1.2208554181516722
         ],
         "z": [
          0.482113,
          0.47875277332582405
         ]
        },
        {
         "line": {
          "color": "blue",
          "width": 5
         },
         "mode": "lines",
         "name": "blue axis",
         "showlegend": false,
         "type": "scatter3d",
         "x": [
          10.76722,
          10.736429852412044
         ],
         "y": [
          1.020925,
          1.0236197492950065
         ],
         "z": [
          0.482113,
          0.6797103307961141
         ]
        },
        {
         "line": {
          "color": "red",
          "width": 5
         },
         "mode": "lines",
         "name": "red axis",
         "showlegend": false,
         "type": "scatter3d",
         "x": [
          10.586458,
          10.780134009462675
         ],
         "y": [
          1.373641,
          1.3345726222386596
         ],
         "z": [
          0.66176,
          0.6927965142648318
         ]
        },
        {
         "line": {
          "color": "green",
          "width": 5
         },
         "mode": "lines",
         "name": "green axis",
         "showlegend": false,
         "type": "scatter3d",
         "x": [
          10.586458,
          10.625897759948693
         ],
         "y": [
          1.373641,
          1.569712462353015
         ],
         "z": [
          0.66176,
          0.6624578437788652
         ]
        },
        {
         "line": {
          "color": "blue",
          "width": 5
         },
         "mode": "lines",
         "name": "blue axis",
         "showlegend": false,
         "type": "scatter3d",
         "x": [
          10.586458,
          10.555894808186917
         ],
         "y": [
          1.373641,
          1.3790855853696509
         ],
         "z": [
          0.66176,
          0.8593359291926757
         ]
        },
        {
         "line": {
          "color": "red",
          "width": 5
         },
         "mode": "lines",
         "name": "red axis",
         "showlegend": false,
         "type": "scatter3d",
         "x": [
          10.462017,
          10.657844435430682
         ],
         "y": [
          0.552312,
          0.5790058669865438
         ],
         "z": [
          0.522646,
          0.5532899716411916
         ]
        },
        {
         "line": {
          "color": "green",
          "width": 5
         },
         "mode": "lines",
         "name": "green axis",
         "showlegend": false,
         "type": "scatter3d",
         "x": [
          10.462017,
          10.434850064246325
         ],
         "y": [
          0.552312,
          0.750455752975804
         ],
         "z": [
          0.522646,
          0.5236513648189761
         ]
        },
        {
         "line": {
          "color": "blue",
          "width": 5
         },
         "mode": "lines",
         "name": "blue axis",
         "showlegend": false,
         "type": "scatter3d",
         "x": [
          10.462017,
          10.431791627638404
         ],
         "y": [
          0.552312,
          0.5471650958850699
         ],
         "z": [
          0.522646,
          0.7202818678065159
         ]
        },
        {
         "line": {
          "color": "red",
          "width": 5
         },
         "mode": "lines",
         "name": "red axis",
         "showlegend": false,
         "type": "scatter3d",
         "x": [
          11.234542,
          11.379951171897352
         ],
         "y": [
          -0.713011,
          -0.5799832557029132
         ],
         "z": [
          0.596024,
          0.6300797186879862
         ]
        },
        {
         "line": {
          "color": "green",
          "width": 5
         },
         "mode": "lines",
         "name": "green axis",
         "showlegend": false,
         "type": "scatter3d",
         "x": [
          11.234542,
          11.100502226805661
         ],
         "y": [
          -0.713011,
          -0.5647342275605365
         ],
         "z": [
          0.596024,
          0.5891437415058689
         ]
        },
        {
         "line": {
          "color": "blue",
          "width": 5
         },
         "mode": "lines",
         "name": "blue axis",
         "showlegend": false,
         "type": "scatter3d",
         "x": [
          11.234542,
          11.204717313410919
         ],
         "y": [
          -0.713011,
          -0.7308328405941825
         ],
         "z": [
          0.596024,
          0.7929830568308518
         ]
        },
        {
         "line": {
          "color": "red",
          "width": 5
         },
         "mode": "lines",
         "name": "red axis",
         "showlegend": false,
         "type": "scatter3d",
         "x": [
          12.385129,
          12.415372035407461
         ],
         "y": [
          -1.146789,
          -0.9509847217249123
         ],
         "z": [
          0.536177,
          0.5634907953883201
         ]
        },
        {
         "line": {
          "color": "green",
          "width": 5
         },
         "mode": "lines",
         "name": "green axis",
         "showlegend": false,
         "type": "scatter3d",
         "x": [
          12.385129,
          12.187629269415806
         ],
         "y": [
          -1.146789,
          -1.1156224082904225
         ],
         "z": [
          0.536177,
          0.5314335855779355
         ]
        },
        {
         "line": {
          "color": "blue",
          "width": 5
         },
         "mode": "lines",
         "name": "blue axis",
         "showlegend": false,
         "type": "scatter3d",
         "x": [
          12.385129,
          12.376228706268106
         ],
         "y": [
          -1.146789,
          -1.1730440599005312
         ],
         "z": [
          0.536177,
          0.7342463227158248
         ]
        },
        {
         "line": {
          "color": "red",
          "width": 5
         },
         "mode": "lines",
         "name": "red axis",
         "showlegend": false,
         "type": "scatter3d",
         "x": [
          14.616784,
          14.545541573198408
         ],
         "y": [
          -0.483529,
          -0.2985073587771901
         ],
         "z": [
          0.537112,
          0.5634085568589802
         ]
        },
        {
         "line": {
          "color": "green",
          "width": 5
         },
         "mode": "lines",
         "name": "green axis",
         "showlegend": false,
         "type": "scatter3d",
         "x": [
          14.616784,
          14.430142371362669
         ],
         "y": [
          -0.483529,
          -0.5553962554410146
         ],
         "z": [
          0.537112,
          0.5371194148699923
         ]
        },
        {
         "line": {
          "color": "blue",
          "width": 5
         },
         "mode": "lines",
         "name": "blue axis",
         "showlegend": false,
         "type": "scatter3d",
         "x": [
          14.616784,
          14.626240166402095
         ],
         "y": [
          -0.483529,
          -0.508066519731908
         ],
         "z": [
          0.537112,
          0.7353756906808258
         ]
        },
        {
         "line": {
          "color": "red",
          "width": 5
         },
         "mode": "lines",
         "name": "red axis",
         "showlegend": false,
         "type": "scatter3d",
         "x": [
          15.308403,
          15.114922664300204
         ],
         "y": [
          1.403504,
          1.4479080313582746
         ],
         "z": [
          1.053888,
          1.0782527634223578
         ]
        },
        {
         "line": {
          "color": "green",
          "width": 5
         },
         "mode": "lines",
         "name": "green axis",
         "showlegend": false,
         "type": "scatter3d",
         "x": [
          15.308403,
          15.263438643476206
         ],
         "y": [
          1.403504,
          1.208633437824797
         ],
         "z": [
          1.053888,
          1.0519721085830642
         ]
        },
        {
         "line": {
          "color": "blue",
          "width": 5
         },
         "mode": "lines",
         "name": "blue axis",
         "showlegend": false,
         "type": "scatter3d",
         "x": [
          15.308403,
          15.331717509214121
         ],
         "y": [
          1.403504,
          1.3961728338817307
         ],
         "z": [
          1.053888,
          1.2523891024237674
         ]
        },
        {
         "line": {
          "color": "red",
          "width": 5
         },
         "mode": "lines",
         "name": "red axis",
         "showlegend": false,
         "type": "scatter3d",
         "x": [
          15.482191,
          15.28436295003987
         ],
         "y": [
          1.019294,
          1.0018985691473346
         ],
         "z": [
          0.716205,
          0.7399001816710116
         ]
        },
        {
         "line": {
          "color": "green",
          "width": 5
         },
         "mode": "lines",
         "name": "green axis",
         "showlegend": false,
         "type": "scatter3d",
         "x": [
          15.482191,
          15.499453770321367
         ],
         "y": [
          1.019294,
          0.8200519536335489
         ],
         "z": [
          0.716205,
          0.7140593717608298
         ]
        },
        {
         "line": {
          "color": "blue",
          "width": 5
         },
         "mode": "lines",
         "name": "blue axis",
         "showlegend": false,
         "type": "scatter3d",
         "x": [
          15.482191,
          15.505983003064136
         ],
         "y": [
          1.019294,
          1.0192168951420764
         ],
         "z": [
          0.716205,
          0.9147847941509584
         ]
        },
        {
         "line": {
          "color": "red",
          "width": 5
         },
         "mode": "lines",
         "name": "red axis",
         "showlegend": false,
         "type": "scatter3d",
         "x": [
          14.962823,
          14.803201785748834
         ],
         "y": [
          2.285665,
          2.1677435702713805
         ],
         "z": [
          0.710034,
          0.7348453758534642
         ]
        },
        {
         "line": {
          "color": "green",
          "width": 5
         },
         "mode": "lines",
         "name": "green axis",
         "showlegend": false,
         "type": "scatter3d",
         "x": [
          14.962823,
          15.082411197043164
         ],
         "y": [
          2.285665,
          2.125584653862779
         ],
         "z": [
          0.710034,
          0.7185748376962131
         ]
        },
        {
         "line": {
          "color": "blue",
          "width": 5
         },
         "mode": "lines",
         "name": "blue axis",
         "showlegend": false,
         "type": "scatter3d",
         "x": [
          14.962823,
          14.977646329212728
         ],
         "y": [
          2.285665,
          2.3073172329413385
         ],
         "z": [
          0.710034,
          0.9083051520108387
         ]
        },
        {
         "line": {
          "color": "red",
          "width": 5
         },
         "mode": "lines",
         "name": "red axis",
         "showlegend": false,
         "type": "scatter3d",
         "x": [
          11.987999,
          12.036653886443437
         ],
         "y": [
          3.032633,
          2.8403071241114186
         ],
         "z": [
          0.584994,
          0.6103605032841758
         ]
        },
        {
         "line": {
          "color": "green",
          "width": 5
         },
         "mode": "lines",
         "name": "green axis",
         "showlegend": false,
         "type": "scatter3d",
         "x": [
          11.987999,
          12.181558357806946
         ],
         "y": [
          3.032633,
          3.082507305601654
         ],
         "z": [
          0.584994,
          0.5918735818271142
         ]
        },
        {
         "line": {
          "color": "blue",
          "width": 5
         },
         "mode": "lines",
         "name": "blue axis",
         "showlegend": false,
         "type": "scatter3d",
         "x": [
          11.987999,
          11.975057708312564
         ],
         "y": [
          3.032633,
          3.0555089940645814
         ],
         "z": [
          0.584994,
          0.783259508510729
         ]
        },
        {
         "line": {
          "color": "red",
          "width": 5
         },
         "mode": "lines",
         "name": "red axis",
         "showlegend": false,
         "type": "scatter3d",
         "x": [
          10.584484,
          10.76780185066241
         ],
         "y": [
          1.669766,
          1.596148031664119
         ],
         "z": [
          0.535629,
          0.5668533553434092
         ]
        },
        {
         "line": {
          "color": "green",
          "width": 5
         },
         "mode": "lines",
         "name": "green axis",
         "showlegend": false,
         "type": "scatter3d",
         "x": [
          10.584484,
          10.657842974126853
         ],
         "y": [
          1.669766,
          1.855670320460024
         ],
         "z": [
          0.535629,
          0.5432476973527327
         ]
        },
        {
         "line": {
          "color": "blue",
          "width": 5
         },
         "mode": "lines",
         "name": "blue axis",
         "showlegend": false,
         "type": "scatter3d",
         "x": [
          10.584484,
          10.552655922088036
         ],
         "y": [
          1.669766,
          1.6742357172610722
         ],
         "z": [
          0.535629,
          0.7330295954500543
         ]
        },
        {
         "line": {
          "color": "red",
          "width": 5
         },
         "mode": "lines",
         "name": "red axis",
         "showlegend": false,
         "type": "scatter3d",
         "x": [
          10.149965,
          10.13691528757749
         ],
         "y": [
          1.536315,
          1.3380468978878335
         ],
         "z": [
          0.592035,
          0.6148267680430746
         ]
        },
        {
         "line": {
          "color": "green",
          "width": 5
         },
         "mode": "lines",
         "name": "green axis",
         "showlegend": false,
         "type": "scatter3d",
         "x": [
          10.149965,
          10.349469441109738
         ],
         "y": [
          1.536315,
          1.5239573247894436
         ],
         "z": [
          0.592035,
          0.5987629893639621
         ]
        },
        {
         "line": {
          "color": "blue",
          "width": 5
         },
         "mode": "lines",
         "name": "blue axis",
         "showlegend": false,
         "type": "scatter3d",
         "x": [
          10.149965,
          10.144703537923634
         ],
         "y": [
          1.536315,
          1.559489286358589
         ],
         "z": [
          0.592035,
          0.7906181550474237
         ]
        },
        {
         "line": {
          "color": "red",
          "width": 5
         },
         "mode": "lines",
         "name": "red axis",
         "showlegend": false,
         "type": "scatter3d",
         "x": [
          7.151189,
          6.977364033909561
         ],
         "y": [
          1.09999,
          1.0022328221912542
         ],
         "z": [
          0.531383,
          0.5464964162427661
         ]
        },
        {
         "line": {
          "color": "green",
          "width": 5
         },
         "mode": "lines",
         "name": "green axis",
         "showlegend": false,
         "type": "scatter3d",
         "x": [
          7.151189,
          7.249662489380046
         ],
         "y": [
          1.09999,
          0.9260833435376936
         ],
         "z": [
          0.531383,
          0.5390931703884695
         ]
        },
        {
         "line": {
          "color": "blue",
          "width": 5
         },
         "mode": "lines",
         "name": "blue axis",
         "showlegend": false,
         "type": "scatter3d",
         "x": [
          7.151189,
          7.160561995944506
         ],
         "y": [
          1.09999,
          1.1141324547010274
         ],
         "z": [
          0.531383,
          0.7306620453661741
         ]
        },
        {
         "line": {
          "color": "red",
          "width": 5
         },
         "mode": "lines",
         "name": "red axis",
         "showlegend": false,
         "type": "scatter3d",
         "x": [
          2.566614,
          2.389599807268131
         ],
         "y": [
          -0.734882,
          -0.8261395560634877
         ],
         "z": [
          0.397993,
          0.4163787018578084
         ]
        },
        {
         "line": {
          "color": "green",
          "width": 5
         },
         "mode": "lines",
         "name": "green axis",
         "showlegend": false,
         "type": "scatter3d",
         "x": [
          2.566614,
          2.6585835030205733
         ],
         "y": [
          -0.734882,
          -0.9124320315259151
         ],
         "z": [
          0.397993,
          0.4021878562901897
         ]
        },
        {
         "line": {
          "color": "blue",
          "width": 5
         },
         "mode": "lines",
         "name": "blue axis",
         "showlegend": false,
         "type": "scatter3d",
         "x": [
          2.566614,
          2.581021848056998
         ],
         "y": [
          -0.734882,
          -0.722714635188094
         ],
         "z": [
          0.397993,
          0.5971019378905438
         ]
        },
        {
         "line": {
          "color": "red",
          "width": 5
         },
         "mode": "lines",
         "name": "red axis",
         "showlegend": false,
         "type": "scatter3d",
         "x": [
          0.955565,
          0.772333619786047
         ],
         "y": [
          -1.462259,
          -1.5394548001950807
         ],
         "z": [
          -0.279418,
          -0.25780620375047536
         ]
        },
        {
         "line": {
          "color": "green",
          "width": 5
         },
         "mode": "lines",
         "name": "green axis",
         "showlegend": false,
         "type": "scatter3d",
         "x": [
          0.955565,
          1.0333881875121582
         ],
         "y": [
          -1.462259,
          -1.646488405635783
         ],
         "z": [
          -0.279418,
          -0.2776636954273539
         ]
        },
        {
         "line": {
          "color": "blue",
          "width": 5
         },
         "mode": "lines",
         "name": "blue axis",
         "showlegend": false,
         "type": "scatter3d",
         "x": [
          0.955565,
          0.9747955171625013
         ],
         "y": [
          -1.462259,
          -1.4522422873991854
         ],
         "z": [
          -0.279418,
          -0.08059684247813198
         ]
        }
       ],
       "layout": {
        "legend": {
         "x": 0,
         "y": 1
        },
        "scene": {
         "aspectmode": "manual",
         "aspectratio": {
          "x": 1,
          "y": 0.8972475311541971,
          "z": 0.11011039804858287
         },
         "xaxis": {
          "title": {
           "text": "X [m]"
          }
         },
         "yaxis": {
          "title": {
           "text": "Y [m]"
          }
         },
         "zaxis": {
          "title": {
           "text": "Z [m]"
          }
         }
        },
        "template": {
         "data": {
          "bar": [
           {
            "error_x": {
             "color": "#2a3f5f"
            },
            "error_y": {
             "color": "#2a3f5f"
            },
            "marker": {
             "line": {
              "color": "#E5ECF6",
              "width": 0.5
             },
             "pattern": {
              "fillmode": "overlay",
              "size": 10,
              "solidity": 0.2
             }
            },
            "type": "bar"
           }
          ],
          "barpolar": [
           {
            "marker": {
             "line": {
              "color": "#E5ECF6",
              "width": 0.5
             },
             "pattern": {
              "fillmode": "overlay",
              "size": 10,
              "solidity": 0.2
             }
            },
            "type": "barpolar"
           }
          ],
          "carpet": [
           {
            "aaxis": {
             "endlinecolor": "#2a3f5f",
             "gridcolor": "white",
             "linecolor": "white",
             "minorgridcolor": "white",
             "startlinecolor": "#2a3f5f"
            },
            "baxis": {
             "endlinecolor": "#2a3f5f",
             "gridcolor": "white",
             "linecolor": "white",
             "minorgridcolor": "white",
             "startlinecolor": "#2a3f5f"
            },
            "type": "carpet"
           }
          ],
          "choropleth": [
           {
            "colorbar": {
             "outlinewidth": 0,
             "ticks": ""
            },
            "type": "choropleth"
           }
          ],
          "contour": [
           {
            "colorbar": {
             "outlinewidth": 0,
             "ticks": ""
            },
            "colorscale": [
             [
              0,
              "#0d0887"
             ],
             [
              0.1111111111111111,
              "#46039f"
             ],
             [
              0.2222222222222222,
              "#7201a8"
             ],
             [
              0.3333333333333333,
              "#9c179e"
             ],
             [
              0.4444444444444444,
              "#bd3786"
             ],
             [
              0.5555555555555556,
              "#d8576b"
             ],
             [
              0.6666666666666666,
              "#ed7953"
             ],
             [
              0.7777777777777778,
              "#fb9f3a"
             ],
             [
              0.8888888888888888,
              "#fdca26"
             ],
             [
              1,
              "#f0f921"
             ]
            ],
            "type": "contour"
           }
          ],
          "contourcarpet": [
           {
            "colorbar": {
             "outlinewidth": 0,
             "ticks": ""
            },
            "type": "contourcarpet"
           }
          ],
          "heatmap": [
           {
            "colorbar": {
             "outlinewidth": 0,
             "ticks": ""
            },
            "colorscale": [
             [
              0,
              "#0d0887"
             ],
             [
              0.1111111111111111,
              "#46039f"
             ],
             [
              0.2222222222222222,
              "#7201a8"
             ],
             [
              0.3333333333333333,
              "#9c179e"
             ],
             [
              0.4444444444444444,
              "#bd3786"
             ],
             [
              0.5555555555555556,
              "#d8576b"
             ],
             [
              0.6666666666666666,
              "#ed7953"
             ],
             [
              0.7777777777777778,
              "#fb9f3a"
             ],
             [
              0.8888888888888888,
              "#fdca26"
             ],
             [
              1,
              "#f0f921"
             ]
            ],
            "type": "heatmap"
           }
          ],
          "histogram": [
           {
            "marker": {
             "pattern": {
              "fillmode": "overlay",
              "size": 10,
              "solidity": 0.2
             }
            },
            "type": "histogram"
           }
          ],
          "histogram2d": [
           {
            "colorbar": {
             "outlinewidth": 0,
             "ticks": ""
            },
            "colorscale": [
             [
              0,
              "#0d0887"
             ],
             [
              0.1111111111111111,
              "#46039f"
             ],
             [
              0.2222222222222222,
              "#7201a8"
             ],
             [
              0.3333333333333333,
              "#9c179e"
             ],
             [
              0.4444444444444444,
              "#bd3786"
             ],
             [
              0.5555555555555556,
              "#d8576b"
             ],
             [
              0.6666666666666666,
              "#ed7953"
             ],
             [
              0.7777777777777778,
              "#fb9f3a"
             ],
             [
              0.8888888888888888,
              "#fdca26"
             ],
             [
              1,
              "#f0f921"
             ]
            ],
            "type": "histogram2d"
           }
          ],
          "histogram2dcontour": [
           {
            "colorbar": {
             "outlinewidth": 0,
             "ticks": ""
            },
            "colorscale": [
             [
              0,
              "#0d0887"
             ],
             [
              0.1111111111111111,
              "#46039f"
             ],
             [
              0.2222222222222222,
              "#7201a8"
             ],
             [
              0.3333333333333333,
              "#9c179e"
             ],
             [
              0.4444444444444444,
              "#bd3786"
             ],
             [
              0.5555555555555556,
              "#d8576b"
             ],
             [
              0.6666666666666666,
              "#ed7953"
             ],
             [
              0.7777777777777778,
              "#fb9f3a"
             ],
             [
              0.8888888888888888,
              "#fdca26"
             ],
             [
              1,
              "#f0f921"
             ]
            ],
            "type": "histogram2dcontour"
           }
          ],
          "mesh3d": [
           {
            "colorbar": {
             "outlinewidth": 0,
             "ticks": ""
            },
            "type": "mesh3d"
           }
          ],
          "parcoords": [
           {
            "line": {
             "colorbar": {
              "outlinewidth": 0,
              "ticks": ""
             }
            },
            "type": "parcoords"
           }
          ],
          "pie": [
           {
            "automargin": true,
            "type": "pie"
           }
          ],
          "scatter": [
           {
            "fillpattern": {
             "fillmode": "overlay",
             "size": 10,
             "solidity": 0.2
            },
            "type": "scatter"
           }
          ],
          "scatter3d": [
           {
            "line": {
             "colorbar": {
              "outlinewidth": 0,
              "ticks": ""
             }
            },
            "marker": {
             "colorbar": {
              "outlinewidth": 0,
              "ticks": ""
             }
            },
            "type": "scatter3d"
           }
          ],
          "scattercarpet": [
           {
            "marker": {
             "colorbar": {
              "outlinewidth": 0,
              "ticks": ""
             }
            },
            "type": "scattercarpet"
           }
          ],
          "scattergeo": [
           {
            "marker": {
             "colorbar": {
              "outlinewidth": 0,
              "ticks": ""
             }
            },
            "type": "scattergeo"
           }
          ],
          "scattergl": [
           {
            "marker": {
             "colorbar": {
              "outlinewidth": 0,
              "ticks": ""
             }
            },
            "type": "scattergl"
           }
          ],
          "scattermap": [
           {
            "marker": {
             "colorbar": {
              "outlinewidth": 0,
              "ticks": ""
             }
            },
            "type": "scattermap"
           }
          ],
          "scattermapbox": [
           {
            "marker": {
             "colorbar": {
              "outlinewidth": 0,
              "ticks": ""
             }
            },
            "type": "scattermapbox"
           }
          ],
          "scatterpolar": [
           {
            "marker": {
             "colorbar": {
              "outlinewidth": 0,
              "ticks": ""
             }
            },
            "type": "scatterpolar"
           }
          ],
          "scatterpolargl": [
           {
            "marker": {
             "colorbar": {
              "outlinewidth": 0,
              "ticks": ""
             }
            },
            "type": "scatterpolargl"
           }
          ],
          "scatterternary": [
           {
            "marker": {
             "colorbar": {
              "outlinewidth": 0,
              "ticks": ""
             }
            },
            "type": "scatterternary"
           }
          ],
          "surface": [
           {
            "colorbar": {
             "outlinewidth": 0,
             "ticks": ""
            },
            "colorscale": [
             [
              0,
              "#0d0887"
             ],
             [
              0.1111111111111111,
              "#46039f"
             ],
             [
              0.2222222222222222,
              "#7201a8"
             ],
             [
              0.3333333333333333,
              "#9c179e"
             ],
             [
              0.4444444444444444,
              "#bd3786"
             ],
             [
              0.5555555555555556,
              "#d8576b"
             ],
             [
              0.6666666666666666,
              "#ed7953"
             ],
             [
              0.7777777777777778,
              "#fb9f3a"
             ],
             [
              0.8888888888888888,
              "#fdca26"
             ],
             [
              1,
              "#f0f921"
             ]
            ],
            "type": "surface"
           }
          ],
          "table": [
           {
            "cells": {
             "fill": {
              "color": "#EBF0F8"
             },
             "line": {
              "color": "white"
             }
            },
            "header": {
             "fill": {
              "color": "#C8D4E3"
             },
             "line": {
              "color": "white"
             }
            },
            "type": "table"
           }
          ]
         },
         "layout": {
          "annotationdefaults": {
           "arrowcolor": "#2a3f5f",
           "arrowhead": 0,
           "arrowwidth": 1
          },
          "autotypenumbers": "strict",
          "coloraxis": {
           "colorbar": {
            "outlinewidth": 0,
            "ticks": ""
           }
          },
          "colorscale": {
           "diverging": [
            [
             0,
             "#8e0152"
            ],
            [
             0.1,
             "#c51b7d"
            ],
            [
             0.2,
             "#de77ae"
            ],
            [
             0.3,
             "#f1b6da"
            ],
            [
             0.4,
             "#fde0ef"
            ],
            [
             0.5,
             "#f7f7f7"
            ],
            [
             0.6,
             "#e6f5d0"
            ],
            [
             0.7,
             "#b8e186"
            ],
            [
             0.8,
             "#7fbc41"
            ],
            [
             0.9,
             "#4d9221"
            ],
            [
             1,
             "#276419"
            ]
           ],
           "sequential": [
            [
             0,
             "#0d0887"
            ],
            [
             0.1111111111111111,
             "#46039f"
            ],
            [
             0.2222222222222222,
             "#7201a8"
            ],
            [
             0.3333333333333333,
             "#9c179e"
            ],
            [
             0.4444444444444444,
             "#bd3786"
            ],
            [
             0.5555555555555556,
             "#d8576b"
            ],
            [
             0.6666666666666666,
             "#ed7953"
            ],
            [
             0.7777777777777778,
             "#fb9f3a"
            ],
            [
             0.8888888888888888,
             "#fdca26"
            ],
            [
             1,
             "#f0f921"
            ]
           ],
           "sequentialminus": [
            [
             0,
             "#0d0887"
            ],
            [
             0.1111111111111111,
             "#46039f"
            ],
            [
             0.2222222222222222,
             "#7201a8"
            ],
            [
             0.3333333333333333,
             "#9c179e"
            ],
            [
             0.4444444444444444,
             "#bd3786"
            ],
            [
             0.5555555555555556,
             "#d8576b"
            ],
            [
             0.6666666666666666,
             "#ed7953"
            ],
            [
             0.7777777777777778,
             "#fb9f3a"
            ],
            [
             0.8888888888888888,
             "#fdca26"
            ],
            [
             1,
             "#f0f921"
            ]
           ]
          },
          "colorway": [
           "#636efa",
           "#EF553B",
           "#00cc96",
           "#ab63fa",
           "#FFA15A",
           "#19d3f3",
           "#FF6692",
           "#B6E880",
           "#FF97FF",
           "#FECB52"
          ],
          "font": {
           "color": "#2a3f5f"
          },
          "geo": {
           "bgcolor": "white",
           "lakecolor": "white",
           "landcolor": "#E5ECF6",
           "showlakes": true,
           "showland": true,
           "subunitcolor": "white"
          },
          "hoverlabel": {
           "align": "left"
          },
          "hovermode": "closest",
          "mapbox": {
           "style": "light"
          },
          "paper_bgcolor": "white",
          "plot_bgcolor": "#E5ECF6",
          "polar": {
           "angularaxis": {
            "gridcolor": "white",
            "linecolor": "white",
            "ticks": ""
           },
           "bgcolor": "#E5ECF6",
           "radialaxis": {
            "gridcolor": "white",
            "linecolor": "white",
            "ticks": ""
           }
          },
          "scene": {
           "xaxis": {
            "backgroundcolor": "#E5ECF6",
            "gridcolor": "white",
            "gridwidth": 2,
            "linecolor": "white",
            "showbackground": true,
            "ticks": "",
            "zerolinecolor": "white"
           },
           "yaxis": {
            "backgroundcolor": "#E5ECF6",
            "gridcolor": "white",
            "gridwidth": 2,
            "linecolor": "white",
            "showbackground": true,
            "ticks": "",
            "zerolinecolor": "white"
           },
           "zaxis": {
            "backgroundcolor": "#E5ECF6",
            "gridcolor": "white",
            "gridwidth": 2,
            "linecolor": "white",
            "showbackground": true,
            "ticks": "",
            "zerolinecolor": "white"
           }
          },
          "shapedefaults": {
           "line": {
            "color": "#2a3f5f"
           }
          },
          "ternary": {
           "aaxis": {
            "gridcolor": "white",
            "linecolor": "white",
            "ticks": ""
           },
           "baxis": {
            "gridcolor": "white",
            "linecolor": "white",
            "ticks": ""
           },
           "bgcolor": "#E5ECF6",
           "caxis": {
            "gridcolor": "white",
            "linecolor": "white",
            "ticks": ""
           }
          },
          "title": {
           "x": 0.05
          },
          "xaxis": {
           "automargin": true,
           "gridcolor": "white",
           "linecolor": "white",
           "ticks": "",
           "title": {
            "standoff": 15
           },
           "zerolinecolor": "white",
           "zerolinewidth": 2
          },
          "yaxis": {
           "automargin": true,
           "gridcolor": "white",
           "linecolor": "white",
           "ticks": "",
           "title": {
            "standoff": 15
           },
           "zerolinecolor": "white",
           "zerolinewidth": 2
          }
         }
        },
        "title": {
         "text": "3D SLAM Pose Trajectory"
        }
       }
      }
     },
     "metadata": {},
     "output_type": "display_data"
    }
   ],
   "source": [
    "# import numpy as np\n",
    "# import plotly.graph_objects as go\n",
    "# from scipy.spatial.transform import Rotation as R\n",
    "\n",
    "# # Load data from the text file\n",
    "# file_path = \"rtabmap_slam.txt\"\n",
    "\n",
    "# # Read data, skipping the first header row\n",
    "# data = np.loadtxt(file_path, skiprows=1)\n",
    "\n",
    "# # Extract positions and quaternions\n",
    "# positions = data[:, 1:4]  # x, y, z\n",
    "# quaternions = data[:, 4:8]  # qx, qy, qz, qw\n",
    "\n",
    "# Create a 3D scatter plot for the trajectory\n",
    "fig = go.Figure(data=[go.Scatter3d(\n",
    "    x=positions[:, 0],\n",
    "    y=positions[:, 1],\n",
    "    z=positions[:, 2],\n",
    "    mode='lines',\n",
    "    line=dict(color='blue', width=2),\n",
    "    name='Trajectory',\n",
    "    showlegend=False\n",
    ")])\n",
    "\n",
    "# Function to plot coordinate frames\n",
    "def plot_coordinate_frame(fig, position, quaternion, scale=0.2):\n",
    "    # Convert quaternion (qx, qy, qz, qw) to rotation matrix\n",
    "    rotation = R.from_quat(quaternion).as_matrix()\n",
    "    \n",
    "    # Define origin\n",
    "    origin = position\n",
    "    \n",
    "    # Define axes in local frame\n",
    "    axes = np.eye(3) * scale\n",
    "    \n",
    "    # Transform axes to global frame\n",
    "    transformed_axes = rotation @ axes\n",
    "    \n",
    "    # Define colors for x, y, z axes\n",
    "    colors = ['red', 'green', 'blue']\n",
    "    \n",
    "    for i in range(3):\n",
    "        fig.add_trace(go.Scatter3d(\n",
    "            x=[origin[0], origin[0] + transformed_axes[0, i]],\n",
    "            y=[origin[1], origin[1] + transformed_axes[1, i]],\n",
    "            z=[origin[2], origin[2] + transformed_axes[2, i]],\n",
    "            mode='lines',\n",
    "            line=dict(color=colors[i], width=5),\n",
    "            name=f'{colors[i]} axis',\n",
    "            showlegend=False\n",
    "        ))\n",
    "\n",
    "# Plot coordinate frames at selected intervals\n",
    "for i in range(0, len(positions), 5):  # Adjust step size for clarity\n",
    "    plot_coordinate_frame(fig, positions[i], quaternions[i])\n",
    "\n",
    "# Compute the range for each axis\n",
    "x_range = positions[:, 0].max() - positions[:, 0].min()\n",
    "y_range = positions[:, 1].max() - positions[:, 1].min()\n",
    "z_range = positions[:, 2].max() - positions[:, 2].min()\n",
    "\n",
    "# Determine the maximum range\n",
    "max_range = max(x_range, y_range, z_range)\n",
    "\n",
    "# Set the aspect ratio based on the maximum range\n",
    "aspect_ratio = dict(x=x_range / max_range, y=y_range / max_range, z=z_range / max_range)\n",
    "\n",
    "# Update layout to set equal aspect ratio\n",
    "fig.update_layout(\n",
    "    scene=dict(\n",
    "        aspectmode='manual',\n",
    "        aspectratio=aspect_ratio,\n",
    "        xaxis=dict(title='X [m]'),\n",
    "        yaxis=dict(title='Y [m]'),\n",
    "        zaxis=dict(title='Z [m]')\n",
    "    ),\n",
    "    title='3D SLAM Pose Trajectory',\n",
    "    legend=dict(x=0, y=1)\n",
    ")\n",
    "\n",
    "# Show the plot\n",
    "fig.show()"
   ]
  },
  {
   "cell_type": "code",
   "execution_count": 32,
   "metadata": {},
   "outputs": [
    {
     "data": {
      "image/png": "[encoded data removed]",
      "text/plain": [
       "<Figure size 1000x600 with 1 Axes>"
      ]
     },
     "metadata": {},
     "output_type": "display_data"
    }
   ],
   "source": [
    "# import numpy as np\n",
    "# import matplotlib.pyplot as plt\n",
    "\n",
    "# # Load data from the text file\n",
    "# file_path = \"rtabmap_slam.txt\"\n",
    "\n",
    "# # Read data, skipping the first header row\n",
    "# data = np.loadtxt(file_path, skiprows=1)\n",
    "\n",
    "# Extract timestamps and positions\n",
    "# timestamps = data[:, 0]\n",
    "# positions = data[:, 1:4]  # x, y, z\n",
    "\n",
    "# Compute differences between consecutive timestamps and positions\n",
    "delta_t = np.diff(timestamps)\n",
    "delta_pos = np.diff(positions, axis=0)\n",
    "\n",
    "# Calculate velocity components\n",
    "velocities = delta_pos / delta_t[:, np.newaxis]\n",
    "\n",
    "# Compute speed (norm of velocity)\n",
    "speeds = np.linalg.norm(velocities, axis=1)\n",
    "\n",
    "# Plot speed versus time\n",
    "plt.figure(figsize=(10, 6))\n",
    "plt.plot(timestamps[1:], speeds, label='Speed (m/s)', color='b')\n",
    "plt.xlabel('Time [s]')\n",
    "plt.ylabel('Speed [m/s]')\n",
    "plt.title('Speed vs. Time')\n",
    "plt.ylim(0, 1.5)  # Adjust limits for better visibility\n",
    "# plt.axis('equal')\n",
    "# plt.axis('tight')\n",
    "plt.legend()\n",
    "plt.grid(True)\n",
    "plt.show()"
   ]
  }
 ],
 "metadata": {
  "kernelspec": {
   "display_name": "ROS2env",
   "language": "python",
   "name": "python3"
  },
  "language_info": {
   "codemirror_mode": {
    "name": "ipython",
    "version": 3
   },
   "file_extension": ".py",
   "mimetype": "text/x-python",
   "name": "python",
   "nbconvert_exporter": "python",
   "pygments_lexer": "ipython3",
   "version": "3.11.8"
  }
 },
 "nbformat": 4,
 "nbformat_minor": 2
}
